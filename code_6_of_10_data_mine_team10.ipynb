{
 "cells": [
  {
   "cell_type": "code",
   "execution_count": 2,
   "id": "yZspwiooWL7r",
   "metadata": {
    "colab": {
     "base_uri": "https://localhost:8080/"
    },
    "executionInfo": {
     "elapsed": 103147,
     "status": "ok",
     "timestamp": 1753029302657,
     "user": {
      "displayName": "Thomas Smith",
      "userId": "12498098331291735095"
     },
     "user_tz": 240
    },
    "id": "yZspwiooWL7r",
    "outputId": "1163599e-2e60-4dc3-fee3-2fb3f239fa1d"
   },
   "outputs": [
    {
     "name": "stdout",
     "output_type": "stream",
     "text": [
      "zsh:1: command not found: apt-get\n",
      "zsh:1: command not found: wget\n",
      "tar: Error opening archive: Failed to open 'spark-3.5.1-bin-hadoop3.tgz'\n",
      "Requirement already satisfied: nltk in /Users/kevhhu/miniforge3/envs/irisarm/lib/python3.11/site-packages (3.9.1)\n",
      "Requirement already satisfied: click in /Users/kevhhu/miniforge3/envs/irisarm/lib/python3.11/site-packages (from nltk) (8.2.1)\n",
      "Requirement already satisfied: joblib in /Users/kevhhu/miniforge3/envs/irisarm/lib/python3.11/site-packages (from nltk) (1.5.1)\n",
      "Requirement already satisfied: regex>=2021.8.3 in /Users/kevhhu/miniforge3/envs/irisarm/lib/python3.11/site-packages (from nltk) (2024.11.6)\n",
      "Requirement already satisfied: tqdm in /Users/kevhhu/miniforge3/envs/irisarm/lib/python3.11/site-packages (from nltk) (4.67.1)\n",
      "Requirement already satisfied: pandas in /Users/kevhhu/miniforge3/envs/irisarm/lib/python3.11/site-packages (2.3.0)\n",
      "Requirement already satisfied: numpy>=1.23.2 in /Users/kevhhu/miniforge3/envs/irisarm/lib/python3.11/site-packages (from pandas) (2.3.1)\n",
      "Requirement already satisfied: python-dateutil>=2.8.2 in /Users/kevhhu/miniforge3/envs/irisarm/lib/python3.11/site-packages (from pandas) (2.9.0.post0)\n",
      "Requirement already satisfied: pytz>=2020.1 in /Users/kevhhu/miniforge3/envs/irisarm/lib/python3.11/site-packages (from pandas) (2025.2)\n",
      "Requirement already satisfied: tzdata>=2022.7 in /Users/kevhhu/miniforge3/envs/irisarm/lib/python3.11/site-packages (from pandas) (2025.2)\n",
      "Requirement already satisfied: six>=1.5 in /Users/kevhhu/miniforge3/envs/irisarm/lib/python3.11/site-packages (from python-dateutil>=2.8.2->pandas) (1.17.0)\n",
      "Requirement already satisfied: numpy in /Users/kevhhu/miniforge3/envs/irisarm/lib/python3.11/site-packages (2.3.1)\n"
     ]
    },
    {
     "ename": "Exception",
     "evalue": "Unable to find py4j in /content/spark-3.5.1-bin-hadoop3/python, your SPARK_HOME may not be configured correctly",
     "output_type": "error",
     "traceback": [
      "\u001b[31m---------------------------------------------------------------------------\u001b[39m",
      "\u001b[31mIndexError\u001b[39m                                Traceback (most recent call last)",
      "\u001b[36mFile \u001b[39m\u001b[32m~/miniforge3/envs/irisarm/lib/python3.11/site-packages/findspark.py:159\u001b[39m, in \u001b[36minit\u001b[39m\u001b[34m(spark_home, python_path, edit_rc, edit_profile)\u001b[39m\n\u001b[32m    158\u001b[39m \u001b[38;5;28;01mtry\u001b[39;00m:\n\u001b[32m--> \u001b[39m\u001b[32m159\u001b[39m     py4j = \u001b[43mglob\u001b[49m\u001b[43m(\u001b[49m\u001b[43mos\u001b[49m\u001b[43m.\u001b[49m\u001b[43mpath\u001b[49m\u001b[43m.\u001b[49m\u001b[43mjoin\u001b[49m\u001b[43m(\u001b[49m\u001b[43mspark_python\u001b[49m\u001b[43m,\u001b[49m\u001b[43m \u001b[49m\u001b[33;43m\"\u001b[39;49m\u001b[33;43mlib\u001b[39;49m\u001b[33;43m\"\u001b[39;49m\u001b[43m,\u001b[49m\u001b[43m \u001b[49m\u001b[33;43m\"\u001b[39;49m\u001b[33;43mpy4j-*.zip\u001b[39;49m\u001b[33;43m\"\u001b[39;49m\u001b[43m)\u001b[49m\u001b[43m)\u001b[49m\u001b[43m[\u001b[49m\u001b[32;43m0\u001b[39;49m\u001b[43m]\u001b[49m\n\u001b[32m    160\u001b[39m \u001b[38;5;28;01mexcept\u001b[39;00m \u001b[38;5;167;01mIndexError\u001b[39;00m:\n",
      "\u001b[31mIndexError\u001b[39m: list index out of range",
      "\nDuring handling of the above exception, another exception occurred:\n",
      "\u001b[31mException\u001b[39m                                 Traceback (most recent call last)",
      "\u001b[36mCell\u001b[39m\u001b[36m \u001b[39m\u001b[32mIn[2]\u001b[39m\u001b[32m, line 17\u001b[39m\n\u001b[32m     14\u001b[39m os.environ[\u001b[33m\"\u001b[39m\u001b[33mSPARK_HOME\u001b[39m\u001b[33m\"\u001b[39m] = \u001b[33m\"\u001b[39m\u001b[33m/content/spark-3.5.1-bin-hadoop3\u001b[39m\u001b[33m\"\u001b[39m\n\u001b[32m     16\u001b[39m \u001b[38;5;28;01mimport\u001b[39;00m\u001b[38;5;250m \u001b[39m\u001b[34;01mfindspark\u001b[39;00m\n\u001b[32m---> \u001b[39m\u001b[32m17\u001b[39m \u001b[43mfindspark\u001b[49m\u001b[43m.\u001b[49m\u001b[43minit\u001b[49m\u001b[43m(\u001b[49m\u001b[43m)\u001b[49m\n",
      "\u001b[36mFile \u001b[39m\u001b[32m~/miniforge3/envs/irisarm/lib/python3.11/site-packages/findspark.py:161\u001b[39m, in \u001b[36minit\u001b[39m\u001b[34m(spark_home, python_path, edit_rc, edit_profile)\u001b[39m\n\u001b[32m    159\u001b[39m         py4j = glob(os.path.join(spark_python, \u001b[33m\"\u001b[39m\u001b[33mlib\u001b[39m\u001b[33m\"\u001b[39m, \u001b[33m\"\u001b[39m\u001b[33mpy4j-*.zip\u001b[39m\u001b[33m\"\u001b[39m))[\u001b[32m0\u001b[39m]\n\u001b[32m    160\u001b[39m     \u001b[38;5;28;01mexcept\u001b[39;00m \u001b[38;5;167;01mIndexError\u001b[39;00m:\n\u001b[32m--> \u001b[39m\u001b[32m161\u001b[39m         \u001b[38;5;28;01mraise\u001b[39;00m \u001b[38;5;167;01mException\u001b[39;00m(\n\u001b[32m    162\u001b[39m             \u001b[33m\"\u001b[39m\u001b[33mUnable to find py4j in \u001b[39m\u001b[38;5;132;01m{}\u001b[39;00m\u001b[33m, your SPARK_HOME may not be configured correctly\u001b[39m\u001b[33m\"\u001b[39m.format(\n\u001b[32m    163\u001b[39m                 spark_python\n\u001b[32m    164\u001b[39m             )\n\u001b[32m    165\u001b[39m         )\n\u001b[32m    166\u001b[39m     sys.path[:\u001b[32m0\u001b[39m] = sys_path = [spark_python, py4j]\n\u001b[32m    167\u001b[39m \u001b[38;5;28;01melse\u001b[39;00m:\n\u001b[32m    168\u001b[39m     \u001b[38;5;66;03m# already imported, no need to patch sys.path\u001b[39;00m\n",
      "\u001b[31mException\u001b[39m: Unable to find py4j in /content/spark-3.5.1-bin-hadoop3/python, your SPARK_HOME may not be configured correctly"
     ]
    }
   ],
   "source": [
    "# Installing PySpark on Colab (instructions found on https://colab.research.google.com/drive/1G894WS7ltIUTusWWmsCnF_zQhQqZCDOc#pyspark)\n",
    "!apt-get install openjdk-8-jdk-headless -qq > /dev/null\n",
    "#!wget -q https://archive.apache.org/dist/spark/spark-3.5.1/spark-3.5.1-bin-hadoop3.tgz\n",
    "!wget -c https://archive.apache.org/dist/spark/spark-3.5.1/spark-3.5.1-bin-hadoop3.tgz\n",
    "!tar -xvzf spark-3.5.1-bin-hadoop3.tgz\n",
    "!pip install -q findspark\n",
    "!pip install nltk\n",
    "!pip install pandas\n",
    "!pip install numpy\n",
    "\n",
    "import os\n",
    "\n",
    "os.environ[\"JAVA_HOME\"] = \"/usr/lib/jvm/java-8-openjdk-amd64\"\n",
    "os.environ[\"SPARK_HOME\"] = \"/content/spark-3.5.1-bin-hadoop3\"\n",
    "\n",
    "import findspark\n",
    "findspark.init()\n"
   ]
  },
  {
   "cell_type": "markdown",
   "id": "v3jVKNCDWNDJ",
   "metadata": {
    "id": "v3jVKNCDWNDJ"
   },
   "source": [
    "**`Stage 0: Import Data`**  \n",
    "```\n",
    "- 1. Create notebook\n",
    "- 2. Load data into Spark data objects and explore structure, size, and distribution of information.\n",
    "- - a. Source data downloaded from https://www.kaggle.com/competitions/spooky-author-identification/code\n",
    "```"
   ]
  },
  {
   "cell_type": "code",
   "execution_count": 2,
   "id": "3004ce56-26f4-4b6b-aa9a-82fef48b3079",
   "metadata": {
    "colab": {
     "base_uri": "https://localhost:8080/"
    },
    "collapsed": true,
    "executionInfo": {
     "elapsed": 26312,
     "status": "ok",
     "timestamp": 1753029328977,
     "user": {
      "displayName": "Thomas Smith",
      "userId": "12498098331291735095"
     },
     "user_tz": 240
    },
    "id": "3004ce56-26f4-4b6b-aa9a-82fef48b3079",
    "jupyter": {
     "outputs_hidden": true
    },
    "outputId": "22ceffed-ad78-483d-bf16-45935f551945"
   },
   "outputs": [
    {
     "name": "stdout",
     "output_type": "stream",
     "text": [
      "--2025-07-20 16:35:03--  https://raw.githubusercontent.com/erikjohnson06/Data/refs/heads/main/spooky_authorship.csv\n",
      "Resolving raw.githubusercontent.com (raw.githubusercontent.com)... 185.199.108.133, 185.199.109.133, 185.199.110.133, ...\n",
      "Connecting to raw.githubusercontent.com (raw.githubusercontent.com)|185.199.108.133|:443... connected.\n",
      "HTTP request sent, awaiting response... 200 OK\n",
      "Length: 3295644 (3.1M) [text/plain]\n",
      "Saving to: ‘/content/spooky_authorship.csv’\n",
      "\n",
      "/content/spooky_aut 100%[===================>]   3.14M  --.-KB/s    in 0.02s   \n",
      "\n",
      "2025-07-20 16:35:03 (197 MB/s) - ‘/content/spooky_authorship.csv’ saved [3295644/3295644]\n",
      "\n"
     ]
    }
   ],
   "source": [
    "# Load 'spooky authorship' file from GitHub (otherwise, Colab will occassionally delete uploaded files)\n",
    "!wget https://raw.githubusercontent.com/erikjohnson06/Data/refs/heads/main/spooky_authorship.csv -O /content/spooky_authorship.csv\n",
    "\n",
    "from pyspark.sql import SparkSession\n",
    "\n",
    "# Create a SparkSession\n",
    "spark = SparkSession.builder.master(\"local[*]\").appName(\"Team10SpookyAuthorship\") \\\n",
    "    .config(\"spark.python.worker.reuse\", \"true\") \\\n",
    "    .config(\"spark.python.worker.faulthandler.enabled\", \"true\") \\\n",
    "    .config(\"spark.executor.memory\", \"4g\") \\\n",
    "    .config(\"spark.driver.memory\", \"4g\") \\\n",
    "    .config(\"spark.executor.heartbeatInterval\", \"60s\") \\\n",
    ".getOrCreate()\n",
    "\n",
    "# Load Spooky Authorship data with escaped columns (CSV uploaded to Colab files)\n",
    "df = spark.read.option(\"header\", True) \\\n",
    "               .option(\"quote\", '\"') \\\n",
    "               .option(\"escape\", '\"') \\\n",
    "               .csv(path='/content/spooky_authorship.csv')"
   ]
  },
  {
   "cell_type": "markdown",
   "id": "b9307907-cd00-4067-b45d-f5f2416b3490",
   "metadata": {
    "id": "b9307907-cd00-4067-b45d-f5f2416b3490"
   },
   "source": [
    "**`Stage 1 Data Preparation - Exploratory data analysis and text mining pre-processing`**\n",
    "```\n",
    "- 3. Perform exploratory data analysis and create visualizations and tables as needed.\n",
    "- 4. Text Preprocessing: perform tasks like tokenization and stopwords removal to clean text data.\n",
    "- - a. Tokenize - split the text into individual words aka tokens.\n",
    "- - b. Remove stop.words - frequently used pronouns and personal references.\n",
    "- - - i. Top ten include: I, you, he, she, it, we, they, me, him, her\n",
    "- - c. Lemmatization - convert words to their root (optional).\n",
    "- - - i. Lemmatization is a text normalization technique that reduces words to their base or\n",
    "dictionary form (lemma). Use to reduce inflected or derived words to their root form for\n",
    "better analysis and modeling outcomes.\n",
    "```"
   ]
  },
  {
   "cell_type": "code",
   "execution_count": 3,
   "id": "95e16e9d-d7ac-46d6-9b7e-94caad8ce291",
   "metadata": {
    "colab": {
     "base_uri": "https://localhost:8080/"
    },
    "executionInfo": {
     "elapsed": 10373,
     "status": "ok",
     "timestamp": 1753029339361,
     "user": {
      "displayName": "Thomas Smith",
      "userId": "12498098331291735095"
     },
     "user_tz": 240
    },
    "id": "95e16e9d-d7ac-46d6-9b7e-94caad8ce291",
    "outputId": "c8b32e6b-b6ca-46b7-8a4d-8b90323e9cd5"
   },
   "outputs": [
    {
     "name": "stderr",
     "output_type": "stream",
     "text": [
      "[nltk_data] Downloading package wordnet to /root/nltk_data...\n",
      "[nltk_data] Downloading package omw-1.4 to /root/nltk_data...\n"
     ]
    },
    {
     "name": "stdout",
     "output_type": "stream",
     "text": [
      "\n",
      " Initial schema of raw data:\n",
      "root\n",
      " |-- id: string (nullable = true)\n",
      " |-- text: string (nullable = true)\n",
      " |-- author: string (nullable = true)\n",
      "\n",
      "\n",
      " Initial statistics/description of raw data:\n",
      "+-------+-------+--------------------+------+\n",
      "|summary|     id|                text|author|\n",
      "+-------+-------+--------------------+------+\n",
      "|  count|  19579|               19579| 19579|\n",
      "|   mean|   NULL|                NULL|  NULL|\n",
      "| stddev|   NULL|                NULL|  NULL|\n",
      "|    min|id00001|\" Odenheimer, res...|   EAP|\n",
      "|    max|id27971|you could not hop...|   MWS|\n",
      "+-------+-------+--------------------+------+\n",
      "\n"
     ]
    }
   ],
   "source": [
    "from pyspark.ml.feature import StopWordsRemover, Tokenizer, CountVectorizer, IDF, StringIndexer, Normalizer\n",
    "from pyspark.ml.feature import StringIndexer\n",
    "from pyspark.ml import Pipeline, Transformer\n",
    "from pyspark.sql.functions import count, udf, col, lower, regexp_replace\n",
    "from pyspark.sql.types import ArrayType, StringType\n",
    "import nltk\n",
    "from nltk.corpus import wordnet\n",
    "from nltk.stem.wordnet import WordNetLemmatizer\n",
    "\n",
    "# Pre-download nltk libraries for lemmatization\n",
    "nltk.download(\"wordnet\")\n",
    "nltk.download(\"omw-1.4\")\n",
    "\n",
    "# Step 3: Exploratory data analysis:\n",
    "# print(df.head())\n",
    "\n",
    "# Columns: ['id', 'text', 'author']\n",
    "print(\"\\n Initial schema of raw data:\")\n",
    "df.printSchema()\n",
    "\n",
    "# Total of 19,579 rows\n",
    "print(\"\\n Initial statistics/description of raw data:\")\n",
    "df.describe().show()\n",
    "\n",
    "# Dropping any rows with null values (none exist in this dataset, however)\n",
    "df.na.drop()\n",
    "\n",
    "# Sort by ID (raw data was randomly sorted)\n",
    "df = df.orderBy(\"id\")\n",
    "\n",
    "# Remove punctuation, replace multiple-spaces with single space and cast to lower case for analysis\n",
    "regex_pattern_rm_punct = r\"[^a-zA-Z\\s]\"\n",
    "regex_pattern_rm_spaces = r\"\\s{2,}\"\n",
    "\n",
    "df_cleaned = df.withColumn(\"cleaned_text\", regexp_replace(\"text\", regex_pattern_rm_punct, \"\")) \\\n",
    "                .withColumn(\"cleaned_text\", regexp_replace(\"cleaned_text\", regex_pattern_rm_spaces, \" \")) \\\n",
    "                .withColumn(\"cleaned_text\", lower(\"cleaned_text\"))\n",
    "\n",
    "# (Step 4 below ...)"
   ]
  },
  {
   "cell_type": "markdown",
   "id": "FNNOCIr5fg8S",
   "metadata": {
    "id": "FNNOCIr5fg8S"
   },
   "source": [
    "**`Stage 2 Feature Extraction`**\n",
    "```\n",
    "- 5. Perform TFIDF to quantify word importance <term.frequency.inverse.doc.frequency>\n",
    "- 6. Normalize is scaling or standardizing the numerical features to a standard range or distribution.\n",
    "- - a. In text mining, normalization vectorizes features with methods like TFIDF, a numerical\n",
    "measurement, to ensure a consistent scale.\n",
    "- - b. It handles variations in the magnitude of feature values impacting machine-learning algorithm\n",
    "performance. Normalize the features to ensure a similar scale and prevent features with larger\n",
    "values from dominating the analysis or modeling process.\n",
    "```"
   ]
  },
  {
   "cell_type": "code",
   "execution_count": 4,
   "id": "-30NZwLGfhaO",
   "metadata": {
    "colab": {
     "base_uri": "https://localhost:8080/"
    },
    "executionInfo": {
     "elapsed": 34346,
     "status": "ok",
     "timestamp": 1753029373714,
     "user": {
      "displayName": "Thomas Smith",
      "userId": "12498098331291735095"
     },
     "user_tz": 240
    },
    "id": "-30NZwLGfhaO",
    "outputId": "76ef3bce-e5b9-4d55-be1c-bf16b81b8ee5"
   },
   "outputs": [
    {
     "name": "stdout",
     "output_type": "stream",
     "text": [
      "\n",
      " Updated schema after normalization, tokenization, etc.\n",
      "root\n",
      " |-- id: string (nullable = true)\n",
      " |-- text: string (nullable = true)\n",
      " |-- author: string (nullable = true)\n",
      " |-- cleaned_text: string (nullable = true)\n",
      " |-- tokens: array (nullable = true)\n",
      " |    |-- element: string (containsNull = true)\n",
      " |-- filtered_tokens: array (nullable = true)\n",
      " |    |-- element: string (containsNull = true)\n",
      " |-- lemmatized_tokens: array (nullable = true)\n",
      " |    |-- element: string (containsNull = true)\n",
      " |-- vectorized_tokens: vector (nullable = true)\n",
      " |-- tfidf: vector (nullable = true)\n",
      " |-- normalized_features: vector (nullable = true)\n",
      " |-- author_index: double (nullable = false)\n",
      "\n",
      "\n",
      " First 5 rows of data:\n",
      "+-------+--------------------------------------------------------------------------------------------------------------------------------------+------+------------+---------------------------------------------------------------------------------------------------+------------------------------------------------------------------------------------------------------------------------------------------------------------------------------------------------------------------------------------------------------------------------------------------------------------------------+\n",
      "|id     |text                                                                                                                                  |author|author_index|lemmatized_tokens                                                                                  |normalized_features                                                                                                                                                                                                                                                                                                     |\n",
      "+-------+--------------------------------------------------------------------------------------------------------------------------------------+------+------------+---------------------------------------------------------------------------------------------------+------------------------------------------------------------------------------------------------------------------------------------------------------------------------------------------------------------------------------------------------------------------------------------------------------------------------+\n",
      "|id00001|Idris was well content with this resolve of mine.                                                                                     |MWS   |1.0         |[idris, well, content, resolve, mine]                                                              |(22230,[31,368,411,791,2857],[0.3039766926497873,0.4226265793512288,0.43135686662333306,0.46905396104971725,0.568246935752448])                                                                                                                                                                                         |\n",
      "|id00002|I was faint, even fainter than the hateful modernity of that accursed city had made me.                                               |HPL   |2.0         |[faint, even, fainter, hateful, modernity, accursed, city, made]                                   |(22230,[9,20,99,592,1234,3198,7369,14553],[0.189763580064664,0.20145716531984398,0.2457979178080409,0.313600886760066,0.34928622036805296,0.40256696835197564,0.45810388784412187,0.5203099670791117])                                                                                                                  |\n",
      "|id00003|Above all, I burn to know the incidents of your own passage through the dark Valley and Shadow.                                       |EAP   |0.0         |[burn, know, incident, passage, dark, valley, shadow]                                              |(22230,[51,140,249,468,489,1908,2670],[0.27725256682330696,0.3095243057499396,0.3401458406809369,0.3707958467102565,0.37157265751556784,0.4527972637787077,0.48067178362279833])                                                                                                                                        |\n",
      "|id00004|He might see, perhaps, one or two points with unusual clearness, but in so doing he, necessarily, lost sight of the matter as a whole.|EAP   |0.0         |[might, see, perhaps, one, two, point, unusual, clearness, necessarily, lost, sight, matter, whole]|(22230,[0,10,38,40,79,116,134,163,171,180,903,2436,5137],[0.14565717293852612,0.198856720153134,0.21835024377688186,0.2202874332614508,0.23875832443301317,0.25016332734256314,0.2536023478305368,0.26117711170145796,0.2641477623993422,0.2663238388283094,0.33430493428906927,0.3852419866535242,0.43594511511945405])|\n",
      "|id00005|All obeyed the Lord Protector of dying England; all looked up to him.                                                                 |MWS   |1.0         |[obeyed, lord, protector, dying, england, looked]                                                  |(22230,[130,339,526,886,1280,4297],[0.3110605018971194,0.3574228255463382,0.38118779359552973,0.4107995243570073,0.4330671300985027,0.5233380987163644])                                                                                                                                                                |\n",
      "+-------+--------------------------------------------------------------------------------------------------------------------------------------+------+------------+---------------------------------------------------------------------------------------------------+------------------------------------------------------------------------------------------------------------------------------------------------------------------------------------------------------------------------------------------------------------------------------------------------------------------------+\n",
      "\n"
     ]
    }
   ],
   "source": [
    "# Step 4a: Tokenization\n",
    "# Helpful article on this process: https://www.analyticsvidhya.com/blog/2022/09/implementing-count-vectorizer-and-tf-idf-in-nlp-using-pyspark/\n",
    "tokenizer = Tokenizer(inputCol=\"cleaned_text\", outputCol=\"tokens\")\n",
    "\n",
    "# Step 4b: Stop word removal\n",
    "stopwords_remover = StopWordsRemover(inputCol=\"tokens\", outputCol=\"filtered_tokens\")\n",
    "\n",
    "# Step 4c: Lemmatization (use UDF function)\n",
    "# UDF function to lemmatize words (reduce multiple conjugations to base word, e.g., run, ran, runs, running => run\n",
    "def lemmatize_words(words):\n",
    "    lemmatizer = WordNetLemmatizer()\n",
    "    return [lemmatizer.lemmatize(word) for word in words] if words else []\n",
    "\n",
    "lemmatize_udf = udf(lemmatize_words, ArrayType(StringType()))\n",
    "\n",
    "# Use Transformer to UDF to add to Pipeline\n",
    "class LemmatizeTokens(Transformer):\n",
    "    def __init__(self, inputCol, outputCol):\n",
    "        super().__init__()\n",
    "        self.inputCol = inputCol\n",
    "        self.outputCol = outputCol\n",
    "\n",
    "    def _transform(self, df):\n",
    "        return df.withColumn(self.outputCol, lemmatize_udf(col(self.inputCol)))\n",
    "\n",
    "lemmatized_tokens = LemmatizeTokens(inputCol=\"filtered_tokens\", outputCol=\"lemmatized_tokens\")\n",
    "\n",
    "\n",
    "# Step 5: TF-IDF calculation\n",
    "# https://spark.apache.org/docs/latest/api/python/reference/api/pyspark.ml.feature.CountVectorizer.html\n",
    "\n",
    "\n",
    "vectorizer = CountVectorizer(inputCol=\"lemmatized_tokens\", outputCol=\"vectorized_tokens\") # use minDF to exclude rare words\n",
    "idf = IDF(inputCol=\"vectorized_tokens\", outputCol=\"tfidf\")\n",
    "\n",
    "# Step 6: Normalization\n",
    "normalizer = Normalizer(inputCol=\"tfidf\", outputCol=\"normalized_features\")\n",
    "\n",
    "# use StringIndexer to convert label to numeric value\n",
    "label_indexer = StringIndexer(inputCol=\"author\", outputCol=\"author_index\")\n",
    "\n",
    "# Create pipeline for chaining the text mining transformers\n",
    "pipeline = Pipeline(stages=[tokenizer, stopwords_remover, lemmatized_tokens, vectorizer, idf, normalizer, label_indexer])\n",
    "\n",
    "# Apply the pipeline to DataFrame (\"model\" used below recall stages of pipeline for visualization)\n",
    "model = pipeline.fit(df_cleaned)\n",
    "processed_df = model.transform(df_cleaned)\n",
    "\n",
    "# Create label column from 'author' for naivebays so we have a string rep of authours (this is done above)\n",
    "# processed_df = StringIndexer(inputCol=\"author\", outputCol=\"author_index\").fit(processed_df).transform(processed_df)\n",
    "\n",
    "# Columns: ['id', 'text', 'author', 'author_index', 'tokens', 'filtered_tokens', 'vectorized_tokens', 'tfidf', 'normalized_features']\n",
    "print(\"\\n Updated schema after normalization, tokenization, etc.\")\n",
    "processed_df.printSchema()\n",
    "\n",
    "# print(processed_df.columns)\n",
    "\n",
    "print(\"\\n First 5 rows of data:\")\n",
    "processed_df.select(\"id\", \"text\", \"author\", \"author_index\", \"lemmatized_tokens\", \"normalized_features\").limit(5).show(truncate=False)"
   ]
  },
  {
   "cell_type": "markdown",
   "id": "67f346af-31a3-4b80-9948-f78a1312135c",
   "metadata": {
    "id": "67f346af-31a3-4b80-9948-f78a1312135c"
   },
   "source": [
    "**`Stage 3 Machine Learning`**\n",
    "```\n",
    "- 7. Perform train\\test split.\n",
    "- 8. Perform algorithmic analysis to assess and predict test labels.\n",
    "- - a. Use as many algorithms as you need to get a good answer.\n",
    "- - b. Supervised: logistic regression, random forest, support vector machines, etc.\n",
    "- - c. Unsupervised: K-means, dimensionality reduction, PCA, etc.\n",
    "```"
   ]
  },
  {
   "cell_type": "code",
   "execution_count": 5,
   "id": "c273dfb9-96dc-49b1-8ff7-92c321b4e393",
   "metadata": {
    "executionInfo": {
     "elapsed": 28,
     "status": "ok",
     "timestamp": 1753029373733,
     "user": {
      "displayName": "Thomas Smith",
      "userId": "12498098331291735095"
     },
     "user_tz": 240
    },
    "id": "c273dfb9-96dc-49b1-8ff7-92c321b4e393"
   },
   "outputs": [],
   "source": [
    "\n",
    "# Step 7\n",
    "(trainingData, testData) = processed_df.randomSplit([0.8, 0.2], seed=42)"
   ]
  },
  {
   "cell_type": "code",
   "execution_count": 6,
   "id": "gzkFP3cMXELk",
   "metadata": {
    "colab": {
     "base_uri": "https://localhost:8080/",
     "height": 89
    },
    "executionInfo": {
     "elapsed": 15,
     "status": "ok",
     "timestamp": 1753029373750,
     "user": {
      "displayName": "Thomas Smith",
      "userId": "12498098331291735095"
     },
     "user_tz": 240
    },
    "id": "gzkFP3cMXELk",
    "outputId": "417ae52b-11ad-47b0-9a6f-e4142e521562"
   },
   "outputs": [
    {
     "data": {
      "application/vnd.google.colaboratory.intrinsic+json": {
       "type": "string"
      },
      "text/plain": [
       "'\\nrfc = RandomForestClassifier(labelCol=\"author_index\", featuresCol=\"normalized_features\", seed=42)\\n\\nevaluator = MulticlassClassificationEvaluator(labelCol=\"author_index\", predictionCol=\"prediction\", metricName=\"accuracy\")\\n\\npipeline = Pipeline(stages=[rfc])\\n\\nparamGrid = ParamGridBuilder()     .addGrid(rfc.numTrees, [10, 20, 30])     .addGrid(rfc.maxDepth, [10, 15, 20])     .build()\\n\\ncv = CrossValidator(estimator=pipeline,\\n                    estimatorParamMaps=paramGrid,\\n                    evaluator=evaluator,\\n                    numFolds=3) # 3-fold cross-validation\\n\\ncvModel = cv.fit(trainingData)\\n\\nprint(\"Best Model:\", cvModel.bestModel)\\nprint(\\'numTrees - \\', cvModel.bestModel.getNumTrees)\\nprint(\\'maxDepth - \\', cvModel.bestModel.getOrDefault(\\'maxDepth\\'))\\nprint(\\'featureSubsetStrategy - \\', cvModel.bestModel.getFeatureSubsetStrategy)\\nprint(\\'getImpurity - \\', cvModel.bestModel.getImpurity)\\nprint(\\'getMinInfoGain - \\', cvModel.bestModel.getMinInfoGain)\\nprint(\\'getMinInstancesPerNode - \\', cvModel.bestModel.getMinInstancesPerNode)\\n'"
      ]
     },
     "execution_count": 6,
     "metadata": {},
     "output_type": "execute_result"
    }
   ],
   "source": [
    "# Step 8 (Erik)\n",
    "\n",
    "# Random Forest Classifier\n",
    "# https://spark.apache.org/docs/latest/api/python/reference/api/pyspark.ml.classification.RandomForestClassifier.html\n",
    "\n",
    "from pyspark.ml.classification import RandomForestClassifier\n",
    "from pyspark.ml.evaluation import MulticlassClassificationEvaluator\n",
    "from pyspark.ml.tuning import ParamGridBuilder, CrossValidator\n",
    "\n",
    "# Attempted to use cross-validation and param grid builder to assess optimal parameters\n",
    "# Note - attempted to run, but took over two hours. Had to resort to manual parameter tuning\n",
    "\"\"\"\n",
    "rfc = RandomForestClassifier(labelCol=\"author_index\", featuresCol=\"normalized_features\", seed=42)\n",
    "\n",
    "evaluator = MulticlassClassificationEvaluator(labelCol=\"author_index\", predictionCol=\"prediction\", metricName=\"accuracy\")\n",
    "\n",
    "pipeline = Pipeline(stages=[rfc])\n",
    "\n",
    "paramGrid = ParamGridBuilder() \\\n",
    "    .addGrid(rfc.numTrees, [10, 20, 30]) \\\n",
    "    .addGrid(rfc.maxDepth, [10, 15, 20]) \\\n",
    "    .build()\n",
    "\n",
    "cv = CrossValidator(estimator=pipeline,\n",
    "                    estimatorParamMaps=paramGrid,\n",
    "                    evaluator=evaluator,\n",
    "                    numFolds=3) # 3-fold cross-validation\n",
    "\n",
    "cvModel = cv.fit(trainingData)\n",
    "\n",
    "print(\"Best Model:\", cvModel.bestModel)\n",
    "print('numTrees - ', cvModel.bestModel.getNumTrees)\n",
    "print('maxDepth - ', cvModel.bestModel.getOrDefault('maxDepth'))\n",
    "print('featureSubsetStrategy - ', cvModel.bestModel.getFeatureSubsetStrategy)\n",
    "print('getImpurity - ', cvModel.bestModel.getImpurity)\n",
    "print('getMinInfoGain - ', cvModel.bestModel.getMinInfoGain)\n",
    "print('getMinInstancesPerNode - ', cvModel.bestModel.getMinInstancesPerNode)\n",
    "\"\"\""
   ]
  },
  {
   "cell_type": "code",
   "execution_count": 7,
   "id": "4O1BMiXMtiaz",
   "metadata": {
    "colab": {
     "base_uri": "https://localhost:8080/"
    },
    "executionInfo": {
     "elapsed": 85060,
     "status": "ok",
     "timestamp": 1753029458819,
     "user": {
      "displayName": "Thomas Smith",
      "userId": "12498098331291735095"
     },
     "user_tz": 240
    },
    "id": "4O1BMiXMtiaz",
    "outputId": "b7d80f07-1243-4b7c-c671-7a60ea610276"
   },
   "outputs": [
    {
     "name": "stdout",
     "output_type": "stream",
     "text": [
      "Random Forest Classifier accuracy: 0.5825013137151865\n",
      "Random Forest Classifier f1 score: 0.5539328554478092\n"
     ]
    }
   ],
   "source": [
    "# Setup RFC Model - default values: numTrees=20, maxDepth=5, minInstancesPerNode=1, featureSubsetStrategy='auto', minInfoGain=0.0\n",
    "rfc = RandomForestClassifier(labelCol=\"author_index\", featuresCol=\"normalized_features\", numTrees=20, maxDepth=30, seed=42)\n",
    "\n",
    "# param set                => accuracy score\n",
    "# ------------------------------------------\n",
    "# numTrees=10, maxDepth=5  => 42.6\n",
    "# numTrees=10, maxDepth=10 => 46.9\n",
    "# numTrees=10, maxDepth=15 => 50\n",
    "# numTrees=10, maxDepth=20 => 52.1\n",
    "# numTrees=20, maxDepth=10 => 46.6\n",
    "# numTrees=20, maxDepth=15 => 50.4\n",
    "# numTrees=20, maxDepth=20 => 53.5\n",
    "# numTrees=20, maxDepth=25 => 56\n",
    "# numTrees=20, maxDepth=30 => 58.25\n",
    "# numTrees=20, maxDepth=40 => (Invalid maxDepth value. Maximum of 30 allowed)\n",
    "# numTrees=25, maxDepth=20 => 53.2\n",
    "# numTrees=25, maxDepth=25 => 55.9\n",
    "# numTrees=30, maxDepth=10 => 46.1\n",
    "# numTrees=30, maxDepth=25 => 56.4\n",
    "# numTrees=50, maxDepth=30 => 58.1\n",
    "\n",
    "# Attempted to use cross-validation and param grid builder to assess optimal parameters\n",
    "# Note - attempted to run, but took over two hours. Had to resort to manual parameter tuning\n",
    "rfc_model = rfc.fit(trainingData)\n",
    "\n",
    "# Make predictions on the test data\n",
    "predictions = rfc_model.transform(testData)\n",
    "\n",
    "# Evaluate the RFC model\n",
    "# https://spark.apache.org/docs/latest/api/python/reference/api/pyspark.ml.evaluation.MulticlassClassificationEvaluator.html\n",
    "evaluator = MulticlassClassificationEvaluator(labelCol=\"author_index\", predictionCol=\"prediction\", metricName=\"accuracy\")\n",
    "accuracy = evaluator.evaluate(predictions)\n",
    "print(f\"Random Forest Classifier accuracy: {accuracy}\")\n",
    "\n",
    "evaluator = MulticlassClassificationEvaluator(labelCol=\"author_index\", predictionCol=\"prediction\", metricName=\"f1\")\n",
    "f1 = evaluator.evaluate(predictions)\n",
    "print(f\"Random Forest Classifier f1 score: {f1}\")\n"
   ]
  },
  {
   "cell_type": "code",
   "execution_count": 8,
   "id": "O0oB0qzpXjao",
   "metadata": {
    "colab": {
     "base_uri": "https://localhost:8080/",
     "height": 990
    },
    "executionInfo": {
     "elapsed": 12954,
     "status": "error",
     "timestamp": 1753029471776,
     "user": {
      "displayName": "Thomas Smith",
      "userId": "12498098331291735095"
     },
     "user_tz": 240
    },
    "id": "O0oB0qzpXjao",
    "outputId": "5d4755b4-4cfd-4abf-f4ae-e6e75374e3f7"
   },
   "outputs": [
    {
     "data": {
      "image/png": "[encoded data removed]",
      "text/plain": [
       "<Figure size 1000x600 with 1 Axes>"
      ]
     },
     "metadata": {},
     "output_type": "display_data"
    },
    {
     "ename": "NameError",
     "evalue": "name 'labels' is not defined",
     "output_type": "error",
     "traceback": [
      "\u001b[0;31m---------------------------------------------------------------------------\u001b[0m",
      "\u001b[0;31mNameError\u001b[0m                                 Traceback (most recent call last)",
      "\u001b[0;32m/tmp/ipython-input-8-969736290.py\u001b[0m in \u001b[0;36m<cell line: 0>\u001b[0;34m()\u001b[0m\n\u001b[1;32m     54\u001b[0m \u001b[0;34m\u001b[0m\u001b[0m\n\u001b[1;32m     55\u001b[0m \u001b[0;31m# Convert back to original labels\u001b[0m\u001b[0;34m\u001b[0m\u001b[0;34m\u001b[0m\u001b[0m\n\u001b[0;32m---> 56\u001b[0;31m \u001b[0my_true\u001b[0m \u001b[0;34m=\u001b[0m \u001b[0mpandas_df\u001b[0m\u001b[0;34m[\u001b[0m\u001b[0;34m\"author_index\"\u001b[0m\u001b[0;34m]\u001b[0m\u001b[0;34m.\u001b[0m\u001b[0mapply\u001b[0m\u001b[0;34m(\u001b[0m\u001b[0;32mlambda\u001b[0m \u001b[0mi\u001b[0m\u001b[0;34m:\u001b[0m \u001b[0mlabels\u001b[0m\u001b[0;34m[\u001b[0m\u001b[0mint\u001b[0m\u001b[0;34m(\u001b[0m\u001b[0mi\u001b[0m\u001b[0;34m)\u001b[0m\u001b[0;34m]\u001b[0m\u001b[0;34m)\u001b[0m\u001b[0;34m\u001b[0m\u001b[0;34m\u001b[0m\u001b[0m\n\u001b[0m\u001b[1;32m     57\u001b[0m \u001b[0my_pred\u001b[0m \u001b[0;34m=\u001b[0m \u001b[0mpandas_df\u001b[0m\u001b[0;34m[\u001b[0m\u001b[0;34m\"prediction\"\u001b[0m\u001b[0;34m]\u001b[0m\u001b[0;34m.\u001b[0m\u001b[0mapply\u001b[0m\u001b[0;34m(\u001b[0m\u001b[0;32mlambda\u001b[0m \u001b[0mi\u001b[0m\u001b[0;34m:\u001b[0m \u001b[0mlabels\u001b[0m\u001b[0;34m[\u001b[0m\u001b[0mint\u001b[0m\u001b[0;34m(\u001b[0m\u001b[0mi\u001b[0m\u001b[0;34m)\u001b[0m\u001b[0;34m]\u001b[0m\u001b[0;34m)\u001b[0m\u001b[0;34m\u001b[0m\u001b[0;34m\u001b[0m\u001b[0m\n\u001b[1;32m     58\u001b[0m \u001b[0;34m\u001b[0m\u001b[0m\n",
      "\u001b[0;32m/usr/local/lib/python3.11/dist-packages/pandas/core/series.py\u001b[0m in \u001b[0;36mapply\u001b[0;34m(self, func, convert_dtype, args, by_row, **kwargs)\u001b[0m\n\u001b[1;32m   4922\u001b[0m             \u001b[0margs\u001b[0m\u001b[0;34m=\u001b[0m\u001b[0margs\u001b[0m\u001b[0;34m,\u001b[0m\u001b[0;34m\u001b[0m\u001b[0;34m\u001b[0m\u001b[0m\n\u001b[1;32m   4923\u001b[0m             \u001b[0mkwargs\u001b[0m\u001b[0;34m=\u001b[0m\u001b[0mkwargs\u001b[0m\u001b[0;34m,\u001b[0m\u001b[0;34m\u001b[0m\u001b[0;34m\u001b[0m\u001b[0m\n\u001b[0;32m-> 4924\u001b[0;31m         ).apply()\n\u001b[0m\u001b[1;32m   4925\u001b[0m \u001b[0;34m\u001b[0m\u001b[0m\n\u001b[1;32m   4926\u001b[0m     def _reindex_indexer(\n",
      "\u001b[0;32m/usr/local/lib/python3.11/dist-packages/pandas/core/apply.py\u001b[0m in \u001b[0;36mapply\u001b[0;34m(self)\u001b[0m\n\u001b[1;32m   1425\u001b[0m \u001b[0;34m\u001b[0m\u001b[0m\n\u001b[1;32m   1426\u001b[0m         \u001b[0;31m# self.func is Callable\u001b[0m\u001b[0;34m\u001b[0m\u001b[0;34m\u001b[0m\u001b[0m\n\u001b[0;32m-> 1427\u001b[0;31m         \u001b[0;32mreturn\u001b[0m \u001b[0mself\u001b[0m\u001b[0;34m.\u001b[0m\u001b[0mapply_standard\u001b[0m\u001b[0;34m(\u001b[0m\u001b[0;34m)\u001b[0m\u001b[0;34m\u001b[0m\u001b[0;34m\u001b[0m\u001b[0m\n\u001b[0m\u001b[1;32m   1428\u001b[0m \u001b[0;34m\u001b[0m\u001b[0m\n\u001b[1;32m   1429\u001b[0m     \u001b[0;32mdef\u001b[0m \u001b[0magg\u001b[0m\u001b[0;34m(\u001b[0m\u001b[0mself\u001b[0m\u001b[0;34m)\u001b[0m\u001b[0;34m:\u001b[0m\u001b[0;34m\u001b[0m\u001b[0;34m\u001b[0m\u001b[0m\n",
      "\u001b[0;32m/usr/local/lib/python3.11/dist-packages/pandas/core/apply.py\u001b[0m in \u001b[0;36mapply_standard\u001b[0;34m(self)\u001b[0m\n\u001b[1;32m   1505\u001b[0m         \u001b[0;31m#  Categorical (GH51645).\u001b[0m\u001b[0;34m\u001b[0m\u001b[0;34m\u001b[0m\u001b[0m\n\u001b[1;32m   1506\u001b[0m         \u001b[0maction\u001b[0m \u001b[0;34m=\u001b[0m \u001b[0;34m\"ignore\"\u001b[0m \u001b[0;32mif\u001b[0m \u001b[0misinstance\u001b[0m\u001b[0;34m(\u001b[0m\u001b[0mobj\u001b[0m\u001b[0;34m.\u001b[0m\u001b[0mdtype\u001b[0m\u001b[0;34m,\u001b[0m \u001b[0mCategoricalDtype\u001b[0m\u001b[0;34m)\u001b[0m \u001b[0;32melse\u001b[0m \u001b[0;32mNone\u001b[0m\u001b[0;34m\u001b[0m\u001b[0;34m\u001b[0m\u001b[0m\n\u001b[0;32m-> 1507\u001b[0;31m         mapped = obj._map_values(\n\u001b[0m\u001b[1;32m   1508\u001b[0m             \u001b[0mmapper\u001b[0m\u001b[0;34m=\u001b[0m\u001b[0mcurried\u001b[0m\u001b[0;34m,\u001b[0m \u001b[0mna_action\u001b[0m\u001b[0;34m=\u001b[0m\u001b[0maction\u001b[0m\u001b[0;34m,\u001b[0m \u001b[0mconvert\u001b[0m\u001b[0;34m=\u001b[0m\u001b[0mself\u001b[0m\u001b[0;34m.\u001b[0m\u001b[0mconvert_dtype\u001b[0m\u001b[0;34m\u001b[0m\u001b[0;34m\u001b[0m\u001b[0m\n\u001b[1;32m   1509\u001b[0m         )\n",
      "\u001b[0;32m/usr/local/lib/python3.11/dist-packages/pandas/core/base.py\u001b[0m in \u001b[0;36m_map_values\u001b[0;34m(self, mapper, na_action, convert)\u001b[0m\n\u001b[1;32m    919\u001b[0m             \u001b[0;32mreturn\u001b[0m \u001b[0marr\u001b[0m\u001b[0;34m.\u001b[0m\u001b[0mmap\u001b[0m\u001b[0;34m(\u001b[0m\u001b[0mmapper\u001b[0m\u001b[0;34m,\u001b[0m \u001b[0mna_action\u001b[0m\u001b[0;34m=\u001b[0m\u001b[0mna_action\u001b[0m\u001b[0;34m)\u001b[0m\u001b[0;34m\u001b[0m\u001b[0;34m\u001b[0m\u001b[0m\n\u001b[1;32m    920\u001b[0m \u001b[0;34m\u001b[0m\u001b[0m\n\u001b[0;32m--> 921\u001b[0;31m         \u001b[0;32mreturn\u001b[0m \u001b[0malgorithms\u001b[0m\u001b[0;34m.\u001b[0m\u001b[0mmap_array\u001b[0m\u001b[0;34m(\u001b[0m\u001b[0marr\u001b[0m\u001b[0;34m,\u001b[0m \u001b[0mmapper\u001b[0m\u001b[0;34m,\u001b[0m \u001b[0mna_action\u001b[0m\u001b[0;34m=\u001b[0m\u001b[0mna_action\u001b[0m\u001b[0;34m,\u001b[0m \u001b[0mconvert\u001b[0m\u001b[0;34m=\u001b[0m\u001b[0mconvert\u001b[0m\u001b[0;34m)\u001b[0m\u001b[0;34m\u001b[0m\u001b[0;34m\u001b[0m\u001b[0m\n\u001b[0m\u001b[1;32m    922\u001b[0m \u001b[0;34m\u001b[0m\u001b[0m\n\u001b[1;32m    923\u001b[0m     \u001b[0;34m@\u001b[0m\u001b[0mfinal\u001b[0m\u001b[0;34m\u001b[0m\u001b[0;34m\u001b[0m\u001b[0m\n",
      "\u001b[0;32m/usr/local/lib/python3.11/dist-packages/pandas/core/algorithms.py\u001b[0m in \u001b[0;36mmap_array\u001b[0;34m(arr, mapper, na_action, convert)\u001b[0m\n\u001b[1;32m   1741\u001b[0m     \u001b[0mvalues\u001b[0m \u001b[0;34m=\u001b[0m \u001b[0marr\u001b[0m\u001b[0;34m.\u001b[0m\u001b[0mastype\u001b[0m\u001b[0;34m(\u001b[0m\u001b[0mobject\u001b[0m\u001b[0;34m,\u001b[0m \u001b[0mcopy\u001b[0m\u001b[0;34m=\u001b[0m\u001b[0;32mFalse\u001b[0m\u001b[0;34m)\u001b[0m\u001b[0;34m\u001b[0m\u001b[0;34m\u001b[0m\u001b[0m\n\u001b[1;32m   1742\u001b[0m     \u001b[0;32mif\u001b[0m \u001b[0mna_action\u001b[0m \u001b[0;32mis\u001b[0m \u001b[0;32mNone\u001b[0m\u001b[0;34m:\u001b[0m\u001b[0;34m\u001b[0m\u001b[0;34m\u001b[0m\u001b[0m\n\u001b[0;32m-> 1743\u001b[0;31m         \u001b[0;32mreturn\u001b[0m \u001b[0mlib\u001b[0m\u001b[0;34m.\u001b[0m\u001b[0mmap_infer\u001b[0m\u001b[0;34m(\u001b[0m\u001b[0mvalues\u001b[0m\u001b[0;34m,\u001b[0m \u001b[0mmapper\u001b[0m\u001b[0;34m,\u001b[0m \u001b[0mconvert\u001b[0m\u001b[0;34m=\u001b[0m\u001b[0mconvert\u001b[0m\u001b[0;34m)\u001b[0m\u001b[0;34m\u001b[0m\u001b[0;34m\u001b[0m\u001b[0m\n\u001b[0m\u001b[1;32m   1744\u001b[0m     \u001b[0;32melse\u001b[0m\u001b[0;34m:\u001b[0m\u001b[0;34m\u001b[0m\u001b[0;34m\u001b[0m\u001b[0m\n\u001b[1;32m   1745\u001b[0m         return lib.map_infer_mask(\n",
      "\u001b[0;32mlib.pyx\u001b[0m in \u001b[0;36mpandas._libs.lib.map_infer\u001b[0;34m()\u001b[0m\n",
      "\u001b[0;32m/tmp/ipython-input-8-969736290.py\u001b[0m in \u001b[0;36m<lambda>\u001b[0;34m(i)\u001b[0m\n\u001b[1;32m     54\u001b[0m \u001b[0;34m\u001b[0m\u001b[0m\n\u001b[1;32m     55\u001b[0m \u001b[0;31m# Convert back to original labels\u001b[0m\u001b[0;34m\u001b[0m\u001b[0;34m\u001b[0m\u001b[0m\n\u001b[0;32m---> 56\u001b[0;31m \u001b[0my_true\u001b[0m \u001b[0;34m=\u001b[0m \u001b[0mpandas_df\u001b[0m\u001b[0;34m[\u001b[0m\u001b[0;34m\"author_index\"\u001b[0m\u001b[0;34m]\u001b[0m\u001b[0;34m.\u001b[0m\u001b[0mapply\u001b[0m\u001b[0;34m(\u001b[0m\u001b[0;32mlambda\u001b[0m \u001b[0mi\u001b[0m\u001b[0;34m:\u001b[0m \u001b[0mlabels\u001b[0m\u001b[0;34m[\u001b[0m\u001b[0mint\u001b[0m\u001b[0;34m(\u001b[0m\u001b[0mi\u001b[0m\u001b[0;34m)\u001b[0m\u001b[0;34m]\u001b[0m\u001b[0;34m)\u001b[0m\u001b[0;34m\u001b[0m\u001b[0;34m\u001b[0m\u001b[0m\n\u001b[0m\u001b[1;32m     57\u001b[0m \u001b[0my_pred\u001b[0m \u001b[0;34m=\u001b[0m \u001b[0mpandas_df\u001b[0m\u001b[0;34m[\u001b[0m\u001b[0;34m\"prediction\"\u001b[0m\u001b[0;34m]\u001b[0m\u001b[0;34m.\u001b[0m\u001b[0mapply\u001b[0m\u001b[0;34m(\u001b[0m\u001b[0;32mlambda\u001b[0m \u001b[0mi\u001b[0m\u001b[0;34m:\u001b[0m \u001b[0mlabels\u001b[0m\u001b[0;34m[\u001b[0m\u001b[0mint\u001b[0m\u001b[0;34m(\u001b[0m\u001b[0mi\u001b[0m\u001b[0;34m)\u001b[0m\u001b[0;34m]\u001b[0m\u001b[0;34m)\u001b[0m\u001b[0;34m\u001b[0m\u001b[0;34m\u001b[0m\u001b[0m\n\u001b[1;32m     58\u001b[0m \u001b[0;34m\u001b[0m\u001b[0m\n",
      "\u001b[0;31mNameError\u001b[0m: name 'labels' is not defined"
     ]
    }
   ],
   "source": [
    "# Steps 9-12 (Erik)\n",
    "\n",
    "from pyspark.mllib.evaluation import MulticlassMetrics\n",
    "from sklearn.metrics import confusion_matrix, ConfusionMatrixDisplay\n",
    "import matplotlib.pyplot as plt\n",
    "import seaborn as sns\n",
    "import pandas as pd\n",
    "import numpy as np\n",
    "\n",
    "# Visualize outcomes from Random Forest Classifier (use \"model\" from initial pipeline fitting cell. Extract pipeline stages with index values)\n",
    "cv_model = model.stages[-4]      # CountVectorizer\n",
    "idf_model = model.stages[-3]     # IDF\n",
    "label_indexer = model.stages[-1] # StringIndexer\n",
    "\n",
    "vocab = cv_model.vocabulary      # word -> index mapping\n",
    "# print(vocab)\n",
    "\n",
    "# Extract feature importances from RF model\n",
    "importances = rfc_model.featureImportances.toArray()\n",
    "\n",
    "# Map vectorized words back to original words. Sort by importance.\n",
    "feature_importance = [(vocab[i], score) for i, score in enumerate(importances)]\n",
    "feature_importance = sorted(feature_importance, key=lambda x: x[1], reverse=True)\n",
    "\n",
    "top_features = feature_importance[:25]\n",
    "words, scores = zip(*top_features)\n",
    "\n",
    "# print(words)\n",
    "# print(scores)\n",
    "\n",
    "# Plot top 25 TF.IDF words of importance\n",
    "plt.figure(figsize=(10, 6))\n",
    "plt.barh(words[::-1], scores[::-1])\n",
    "plt.xlabel(\"Importance Score\")\n",
    "plt.title(\"Top TF-IDF Features\")\n",
    "plt.tight_layout()\n",
    "plt.show()\n",
    "\n",
    "# labels = label_indexer.labels\n",
    "# print(\"labels: \", labels)\n",
    "\n",
    "# print(\"processed_df authors/indexes: \")\n",
    "# processed_df.select(\"author\", \"author_index\").distinct().show()\n",
    "\n",
    "# EAP = 0.0\n",
    "# MWS = 1.0\n",
    "# HPL = 2.0\n",
    "\n",
    "y_true = predictions.select(\"author_index\").rdd.flatMap(lambda x: x).collect()\n",
    "y_pred = predictions.select(\"prediction\").rdd.flatMap(lambda x: x).collect()\n",
    "\n",
    "# Convert to pandas for creating a confusion matrix\n",
    "pandas_df = predictions.select(\"author_index\", \"prediction\").toPandas()\n",
    "\n",
    "# Convert back to original labels\n",
    "y_true = pandas_df[\"author_index\"].apply(lambda i: labels[int(i)])\n",
    "y_pred = pandas_df[\"prediction\"].apply(lambda i: labels[int(i)])\n",
    "\n",
    "confusion = confusion_matrix(y_true, y_pred)\n",
    "# ConfusionMatrixDisplay(confusion_matrix=cm).plot();\n",
    "\n",
    "plt.figure(figsize=(6, 5))\n",
    "sns.heatmap(confusion,\n",
    "            annot=True,\n",
    "            cmap=plt.cm.Blues,\n",
    "            fmt=\"d\",\n",
    "            cbar=False,\n",
    "            xticklabels=np.unique(y_true),\n",
    "            yticklabels=np.unique(y_true))\n",
    "plt.xlabel(\"Predicted\")\n",
    "plt.ylabel(\"Actual\")\n",
    "plt.title(\"Confusion Matrix for RFC Model\")\n",
    "plt.show()"
   ]
  },
  {
   "cell_type": "markdown",
   "id": "lfyfszOGnczf",
   "metadata": {
    "id": "lfyfszOGnczf"
   },
   "source": [
    "Analysis of Random Forest Model performance\n",
    "\n",
    "Findings:\n",
    "\n",
    "After attempting several combinations of parameters on the RFC model, it can be seen that performance increases with the number of trees and max depth allowed. This, however, does increase the run time of the model significantly as these values are increase. PySpark eventually ran out of memory with number of trees set to 50 and the max depth depth set to it maximum allowed value of 30. After running several iterations, I found that the most optimal parameters were numTrees=20 and maxDepth=30. This only improved the accuracy of the model from 39% (default parameter values) to 54% with these tuned parameters. This constitutes a significant improvement, but still far from the goal of 80%.\n",
    "\n",
    "The top 25 most significant words found by the TF.IDF process are listed above, many of which include proper nouns (names of characters especially), in addition to strong emotional language (heart, love, passion, happiness, etc).\n",
    "\n",
    "Looking at the confusion matrix for this model, we see that it classified Edgar Allen Poe most accurately by far (1430 true positives, of a total test size of 3,806 rows). This suggests that the language of Poe is much more easily identifiable than the other two authors. Among the greatest confusion was predicting Mary Shelley's samples as Poe (733 false positives).\n",
    "\n",
    "Sadly, my attempt at using ParamGridBuilder and CrossValidation failed due to excessive run time. After several iterations of manual tuning, I was able to find (what appeared to be) an optimal set of parameters.\n",
    "\n",
    "Next steps:\n",
    "\n",
    "It could be the case that the Random Forest Model simply isn't the best algorithm for this type of task. However, additional parameter tuning may result in a performance improvements (although, I don't expect this to achieve greater than the goal of 80%) . At this point, I would explore other algorithms (Logistics Regresion, K-Nearest Neighbor, etc.) to assess their performance. I suspect they would fare better than the Random Forest Classifier.\n"
   ]
  },
  {
   "cell_type": "code",
   "execution_count": 9,
   "id": "Uqqt5gfNtmTY",
   "metadata": {
    "colab": {
     "base_uri": "https://localhost:8080/"
    },
    "executionInfo": {
     "elapsed": 14014,
     "status": "ok",
     "timestamp": 1753029730400,
     "user": {
      "displayName": "Thomas Smith",
      "userId": "12498098331291735095"
     },
     "user_tz": 240
    },
    "id": "Uqqt5gfNtmTY",
    "outputId": "67dd96e7-5632-4f0f-88f0-d2fcac7ffcfd"
   },
   "outputs": [
    {
     "name": "stdout",
     "output_type": "stream",
     "text": [
      "Naive Bayes Accuracy: 0.8462953231739359\n"
     ]
    }
   ],
   "source": [
    "# Step 8 (Thomas)\n",
    "\n",
    "# Naive Bayes - spark.apache.org/docs/latest/api/python/reference/api/pyspark.ml.classification.NaiveBayes.html\n",
    "#\n",
    "\n",
    "\n",
    "from pyspark.ml.classification import NaiveBayes\n",
    "from pyspark.ml.evaluation import MulticlassClassificationEvaluator\n",
    "\n",
    "# Setup the model\n",
    "# lower smooting values seem to give a higher accuracy, to a point at least\n",
    "# Smoothing=0.4  Accuracy: 0.7677\n",
    "# Smoothing=0.3  Accuracy: 0.7685\n",
    "#Smoothing=0.20  Accuracy: 0.7672\n",
    "#Smoothing=0.22  Accuracy: 0.7677\n",
    "#Smoothing=0.24  Accuracy: 0.7680\n",
    "#Smoothing=0.25  Accuracy: 0.7685\n",
    "#Smoothing=0.26  Accuracy: 0.7677\n",
    "#Smoothing=0.28  Accuracy: 0.7680\n",
    "\n",
    "nb = NaiveBayes(featuresCol=\"normalized_features\", labelCol=\"author_index\", modelType=\"multinomial\", smoothing=0.25)\n",
    "\n",
    "\n",
    "nb_model = nb.fit(trainingData)\n",
    "\n",
    "predictions_nb = nb_model.transform(testData)\n",
    "\n",
    "\n",
    "# Prediction and eval\n",
    "evaluator_nb = MulticlassClassificationEvaluator(labelCol=\"author_index\", predictionCol=\"prediction\", metricName=\"accuracy\")\n",
    "accuracy_nb = evaluator_nb.evaluate(predictions_nb)\n",
    "\n",
    "print(f\"Naive Bayes Accuracy: {accuracy_nb}\")\n",
    "\n"
   ]
  },
  {
   "cell_type": "code",
   "execution_count": 10,
   "id": "U551ma_zkG_L",
   "metadata": {
    "colab": {
     "base_uri": "https://localhost:8080/",
     "height": 1000
    },
    "executionInfo": {
     "elapsed": 4425,
     "status": "ok",
     "timestamp": 1753029775576,
     "user": {
      "displayName": "Thomas Smith",
      "userId": "12498098331291735095"
     },
     "user_tz": 240
    },
    "id": "U551ma_zkG_L",
    "outputId": "f8b4276e-77df-4e1e-e237-4926da64815a"
   },
   "outputs": [
    {
     "data": {
      "image/png": "[encoded data removed]",
      "text/plain": [
       "<Figure size 1000x600 with 1 Axes>"
      ]
     },
     "metadata": {},
     "output_type": "display_data"
    },
    {
     "name": "stdout",
     "output_type": "stream",
     "text": [
      "labels:  ['EAP', 'MWS', 'HPL']\n"
     ]
    },
    {
     "data": {
      "image/png": "[encoded data removed]",
      "text/plain": [
       "<Figure size 600x500 with 1 Axes>"
      ]
     },
     "metadata": {},
     "output_type": "display_data"
    }
   ],
   "source": [
    "\n",
    "# Step 9-12 (Thomas)\n",
    "\n",
    "from pyspark.mllib.evaluation import MulticlassMetrics\n",
    "from sklearn.metrics import confusion_matrix, ConfusionMatrixDisplay\n",
    "import matplotlib.pyplot as plt\n",
    "import seaborn as sns\n",
    "import pandas as pd\n",
    "import numpy as np\n",
    "\n",
    "#extract pipeline stages\n",
    "cv_model = model.stages[-4]      # CountVectorizer\n",
    "idf_model = model.stages[-3]     # IDF\n",
    "label_indexer = model.stages[-1] # StringIndexer\n",
    "\n",
    "vocab = cv_model.vocabulary      # word -> index mapping\n",
    "\n",
    "#get feature importance\n",
    "idf_values = idf_model.idf.toArray()\n",
    "\n",
    "feature_importance = [(vocab[i], idf_values[i]) for i in range(len(vocab))]\n",
    "feature_importance = sorted(feature_importance, key=lambda x: x[1], reverse=True)\n",
    "\n",
    "top_features = feature_importance[:25]\n",
    "words, scores = zip(*top_features)\n",
    "\n",
    "# plot top tf-idf scores\n",
    "plt.figure(figsize=(10, 6))\n",
    "plt.barh(words[::-1], scores[::-1])\n",
    "plt.xlabel(\"IDF Score\")\n",
    "plt.title(\"Top TF-IDF Features\")\n",
    "plt.tight_layout()\n",
    "plt.show()\n",
    "\n",
    "\n",
    "\n",
    "\n",
    "labels = label_indexer.labels\n",
    "print(\"labels: \", labels)\n",
    "\n",
    "# print(\"processed_df authors/indexes: \")\n",
    "# processed_df.select(\"author\", \"author_index\").distinct().show()\n",
    "\n",
    "# EAP = 0.0\n",
    "# MWS = 1.0\n",
    "# HPL = 2.0\n",
    "\n",
    "# Convert to pandas for creating a confusion matrix\n",
    "pandas_df = predictions_nb.select(\"author_index\", \"prediction\").toPandas()\n",
    "\n",
    "# Convert back to original labels\n",
    "y_true = pandas_df[\"author_index\"].apply(lambda i: labels[int(i)])\n",
    "y_pred = pandas_df[\"prediction\"].apply(lambda i: labels[int(i)])\n",
    "\n",
    "confusion = confusion_matrix(y_true, y_pred)\n",
    "# ConfusionMatrixDisplay(confusion_matrix=cm).plot();\n",
    "\n",
    "plt.figure(figsize=(6, 5))\n",
    "sns.heatmap(confusion,\n",
    "            annot=True,\n",
    "            cmap=plt.cm.Blues,\n",
    "            fmt=\"d\",\n",
    "            cbar=False,\n",
    "            xticklabels=np.unique(y_true),\n",
    "            yticklabels=np.unique(y_true))\n",
    "plt.xlabel(\"Predicted\")\n",
    "plt.ylabel(\"Actual\")\n",
    "plt.title(\"Confusion Matrix for Naive Bayes Model\")\n",
    "plt.show()"
   ]
  },
  {
   "cell_type": "markdown",
   "id": "vDQSv8FpnoFP",
   "metadata": {
    "id": "vDQSv8FpnoFP"
   },
   "source": [
    "Analysis of Naive Bayes performance\n",
    "\n",
    "When using a multinomial Naive Bayes model to preform author identification for the spooky authorship problem, the Naive Bayes model, along with TF-IDF Vectorization, Lemmatization and normalization, the model achieved an accuracy of about 84.6 %. A graph of the top IDF words as well as a confusion matrix was also generated\n",
    "\n",
    "A lot of the IDF words were rather unsual which is likely why they worked so well at being stronmg distinguishing terms. The confusion matrix shows that the model had the best performance with Edgar Allen Poe and Mary Shelly and also could indicate overlap in author styles between the three authors.\n",
    "\n",
    "A smoothing value that was low seemed to help the model work the best but it also relied on the values being normalized, as a non normalized one produced an accuracy of about 40%\n",
    "\n",
    "In the future it may be advantageous to explore additional methods such as feature engineering or the use of bi-grams for greater accuracy. Additionally, a more thorough anaylsis of the best smoothing value could be done.\n",
    "\n"
   ]
  },
  {
   "cell_type": "code",
   "execution_count": null,
   "id": "eKHAYrrstmXv",
   "metadata": {
    "executionInfo": {
     "elapsed": 272496,
     "status": "aborted",
     "timestamp": 1753029471768,
     "user": {
      "displayName": "Thomas Smith",
      "userId": "12498098331291735095"
     },
     "user_tz": 240
    },
    "id": "eKHAYrrstmXv"
   },
   "outputs": [],
   "source": [
    "# Step 8 (Michael)"
   ]
  },
  {
   "cell_type": "markdown",
   "id": "27e36a22-577a-4962-b98b-a1a8509a440a",
   "metadata": {
    "id": "27e36a22-577a-4962-b98b-a1a8509a440a"
   },
   "source": [
    "**`Stage 4 Evaluation & Visualization`**\n",
    "```\n",
    "- 9. Choose a metric strategy to assess algorithmic performance like accuracy, precision, recall, or F1 score.\n",
    "- 10. Visualize confusion matrix, correlations, and similar.\n",
    "- 11. Identify important features contributing to classification.\n",
    "- 12. Write a 23 sentence minimum of findings, learnings, and what you would do next.\n",
    "```"
   ]
  },
  {
   "cell_type": "code",
   "execution_count": null,
   "id": "75ddd673-4ed8-4e19-a041-31114d2130e0",
   "metadata": {
    "executionInfo": {
     "elapsed": 272498,
     "status": "aborted",
     "timestamp": 1753029471770,
     "user": {
      "displayName": "Thomas Smith",
      "userId": "12498098331291735095"
     },
     "user_tz": 240
    },
    "id": "75ddd673-4ed8-4e19-a041-31114d2130e0"
   },
   "outputs": [],
   "source": [
    "from pyspark.ml import Pipeline\n",
    "from pyspark.ml.feature import StopWordsRemover, Tokenizer, CountVectorizer, IDF\n",
    "from pyspark.ml.classification import NaiveBayes\n",
    "from pyspark.ml.evaluation import MulticlassClassificationEvaluator\n",
    "from sklearn.metrics import confusion_matrix, ConfusionMatrixDisplay"
   ]
  },
  {
   "cell_type": "code",
   "execution_count": null,
   "id": "URMQTPKitypO",
   "metadata": {
    "executionInfo": {
     "elapsed": 272498,
     "status": "aborted",
     "timestamp": 1753029471771,
     "user": {
      "displayName": "Thomas Smith",
      "userId": "12498098331291735095"
     },
     "user_tz": 240
    },
    "id": "URMQTPKitypO"
   },
   "outputs": [],
   "source": [
    "# Steps 9-12"
   ]
  },
  {
   "cell_type": "markdown",
   "id": "7a39ab46-2986-4a13-9ab1-31783fd4e3bc",
   "metadata": {
    "id": "7a39ab46-2986-4a13-9ab1-31783fd4e3bc"
   },
   "source": []
  },
  {
   "cell_type": "code",
   "execution_count": null,
   "id": "vZuN1OXUapZL",
   "metadata": {
    "executionInfo": {
     "elapsed": 272499,
     "status": "aborted",
     "timestamp": 1753029471772,
     "user": {
      "displayName": "Thomas Smith",
      "userId": "12498098331291735095"
     },
     "user_tz": 240
    },
    "id": "vZuN1OXUapZL"
   },
   "outputs": [],
   "source": [
    "from pyspark.ml import Pipeline\n",
    "from pyspark.ml.feature import CountVectorizer, IDF, Normalizer\n",
    "\n",
    "# you already have these from cell 7:\n",
    "# tokenizer = Tokenizer(...)\n",
    "# stopwords_remover = StopWordsRemover(...)\n",
    "# (and your lemmatization UDF, if you want it in the pipeline)\n",
    "\n",
    "# define the remaining stages\n",
    "cv         = CountVectorizer(inputCol=\"filtered_tokens\", outputCol=\"vectorized_tokens\")\n",
    "tfidf      = IDF(inputCol=\"vectorized_tokens\",      outputCol=\"tfidf\")\n",
    "normalizer = Normalizer(inputCol=\"tfidf\",            outputCol=\"normalized_features\")\n",
    "\n",
    "# assemble everything into a single Pipeline\n",
    "pipeline = Pipeline(stages=[\n",
    "    # tokenizer, # Removed as tokens column already exists\n",
    "    # stopwords_remover, # Removed as filtered_tokens column already exists\n",
    "    cv,\n",
    "    tfidf,\n",
    "    normalizer\n",
    "])"
   ]
  },
  {
   "cell_type": "code",
   "execution_count": null,
   "id": "7F78RqQWeHn0",
   "metadata": {
    "executionInfo": {
     "elapsed": 272499,
     "status": "aborted",
     "timestamp": 1753029471773,
     "user": {
      "displayName": "Thomas Smith",
      "userId": "12498098331291735095"
     },
     "user_tz": 240
    },
    "id": "7F78RqQWeHn0"
   },
   "outputs": [],
   "source": []
  },
  {
   "cell_type": "code",
   "execution_count": null,
   "id": "HwQPG_QgeHXX",
   "metadata": {
    "executionInfo": {
     "elapsed": 7,
     "status": "aborted",
     "timestamp": 1753029471853,
     "user": {
      "displayName": "Thomas Smith",
      "userId": "12498098331291735095"
     },
     "user_tz": 240
    },
    "id": "HwQPG_QgeHXX"
   },
   "outputs": [],
   "source": [
    "# Suppose this is your final cleaned-and-featurized DataFrame:\n",
    "# processed_df = pipeline_for_cleaning.fit(raw_df).transform(raw_df)\n",
    "\n",
    "# 0. Split into train & test\n",
    "train_df, test_df = processed_df.randomSplit([0.8, 0.2], seed=42)\n",
    "\n",
    "# Now bind them to the names your evaluation code expects\n",
    "training_df = train_df\n",
    "test_df     = test_df\n",
    "\n",
    "# Quick sanity check\n",
    "print(\"Train count:\", training_df.count())\n",
    "print(\"Test count: \", test_df.count())\n"
   ]
  },
  {
   "cell_type": "code",
   "execution_count": null,
   "id": "QmBTqJX-apWJ",
   "metadata": {
    "executionInfo": {
     "elapsed": 7,
     "status": "aborted",
     "timestamp": 1753029471854,
     "user": {
      "displayName": "Thomas Smith",
      "userId": "12498098331291735095"
     },
     "user_tz": 240
    },
    "id": "QmBTqJX-apWJ"
   },
   "outputs": [],
   "source": [
    "# This line is redundant as the pipeline is fit and transformed later on training_df and test_df\n",
    "# processed_df = pipeline.fit(df_cleaned).transform(df_cleaned)"
   ]
  },
  {
   "cell_type": "code",
   "execution_count": null,
   "id": "ZTu-V8pCapTU",
   "metadata": {
    "executionInfo": {
     "elapsed": 8,
     "status": "aborted",
     "timestamp": 1753029471856,
     "user": {
      "displayName": "Thomas Smith",
      "userId": "12498098331291735095"
     },
     "user_tz": 240
    },
    "id": "ZTu-V8pCapTU"
   },
   "outputs": [],
   "source": []
  },
  {
   "cell_type": "code",
   "execution_count": null,
   "id": "uIu8KC4uqBca",
   "metadata": {
    "executionInfo": {
     "elapsed": 8,
     "status": "aborted",
     "timestamp": 1753029471857,
     "user": {
      "displayName": "Thomas Smith",
      "userId": "12498098331291735095"
     },
     "user_tz": 240
    },
    "id": "uIu8KC4uqBca"
   },
   "outputs": [],
   "source": [
    "from pyspark.ml import Pipeline\n",
    "from pyspark.ml.feature import (\n",
    "    Tokenizer, StopWordsRemover,\n",
    "    HashingTF, IDF, Normalizer,\n",
    "    StringIndexer\n",
    ")\n",
    "from pyspark.ml.classification import NaiveBayes\n",
    "from pyspark.ml.evaluation import MulticlassClassificationEvaluator\n",
    "import numpy as np\n",
    "\n",
    "# 0) Rename your ground‐truth column to \"label\"\n",
    "df_labeled = df_cleaned.withColumnRenamed(\"author\", \"label\")\n",
    "\n",
    "# 0.1) Keep only the 10 most frequent labels to bound the confusion matrix size\n",
    "label_counts = (\n",
    "    df_labeled\n",
    "      .groupBy(\"label\")\n",
    "      .count()\n",
    "      .orderBy(\"count\", ascending=False)\n",
    ")\n",
    "top10 = [r[\"label\"] for r in label_counts.limit(10).collect()]\n",
    "df_top10 = df_labeled.filter(df_labeled.label.isin(top10))\n",
    "\n",
    "# 1) Preprocessing (one pass)\n",
    "preproc_pipe = Pipeline(stages=[\n",
    "    Tokenizer(       inputCol=\"text\",           outputCol=\"words\"),\n",
    "    StopWordsRemover(inputCol=\"words\",          outputCol=\"filtered_tokens\"),\n",
    "    HashingTF(       inputCol=\"filtered_tokens\", outputCol=\"rawFeatures\", numFeatures=5000),\n",
    "    IDF(             inputCol=\"rawFeatures\",    outputCol=\"tfidf\"),\n",
    "    Normalizer(      inputCol=\"tfidf\",          outputCol=\"features\")\n",
    "])\n",
    "preproc_model = preproc_pipe.fit(df_top10)\n",
    "processed_df  = preproc_model.transform(df_top10)\n",
    "\n",
    "# 2) Train/test split\n",
    "train_df, test_df = processed_df.randomSplit([0.8, 0.2], seed=42)\n",
    "\n",
    "# 3) Classification pipeline\n",
    "clf_pipe = Pipeline(stages=[\n",
    "    StringIndexer(inputCol=\"label\", outputCol=\"labelIndex\", handleInvalid=\"keep\"),\n",
    "    NaiveBayes(   featuresCol=\"features\", labelCol=\"labelIndex\")\n",
    "])\n",
    "clf_model   = clf_pipe.fit(train_df)\n",
    "predictions = clf_model.transform(test_df)\n",
    "\n",
    "# 4) Evaluation\n",
    "for title, metric in [\n",
    "    (\"Accuracy\",          \"accuracy\"),\n",
    "    (\"F1 score\",          \"f1\"),\n",
    "    (\"Weighted Precision\",\"weightedPrecision\"),\n",
    "    (\"Weighted Recall\",   \"weightedRecall\")\n",
    "]:\n",
    "    ev = MulticlassClassificationEvaluator(\n",
    "        labelCol=\"labelIndex\",\n",
    "        predictionCol=\"prediction\",\n",
    "        metricName=metric\n",
    "    )\n",
    "    print(f\"{title:>18}: {ev.evaluate(predictions):.4f}\")\n",
    "\n",
    "# 5) Confusion matrix (Spark only)\n",
    "cm = (\n",
    "    predictions\n",
    "      .groupBy(\"labelIndex\")\n",
    "      .pivot(\"prediction\")\n",
    "      .count()\n",
    "      .na.fill(0)\n",
    ")\n",
    "cm.show(truncate=False)\n",
    "\n",
    "# 6) Top‐10 hashed‐feature indices per class\n",
    "si_model    = clf_model.stages[0]       # StringIndexerModel\n",
    "class_names = si_model.labels\n",
    "nb_model    = clf_model.stages[1]       # NaiveBayesModel\n",
    "theta       = np.array(nb_model.theta.toArray())\n",
    "\n",
    "for i, lbl in enumerate(class_names):\n",
    "    top_idxs = np.argsort(theta[i])[::-1][:10]\n",
    "    print(f\"Class {lbl} top hashed‐feature indices: {top_idxs.tolist()}\")\n"
   ]
  },
  {
   "cell_type": "code",
   "execution_count": null,
   "id": "teGK3mZ_qBYS",
   "metadata": {
    "executionInfo": {
     "elapsed": 10,
     "status": "aborted",
     "timestamp": 1753029471859,
     "user": {
      "displayName": "Thomas Smith",
      "userId": "12498098331291735095"
     },
     "user_tz": 240
    },
    "id": "teGK3mZ_qBYS"
   },
   "outputs": [],
   "source": []
  },
  {
   "cell_type": "code",
   "execution_count": null,
   "id": "AyfUwPj5qBQn",
   "metadata": {
    "executionInfo": {
     "elapsed": 10,
     "status": "aborted",
     "timestamp": 1753029471860,
     "user": {
      "displayName": "Thomas Smith",
      "userId": "12498098331291735095"
     },
     "user_tz": 240
    },
    "id": "AyfUwPj5qBQn"
   },
   "outputs": [],
   "source": []
  },
  {
   "cell_type": "code",
   "execution_count": null,
   "id": "5W16_r_QqBBm",
   "metadata": {
    "executionInfo": {
     "elapsed": 11,
     "status": "aborted",
     "timestamp": 1753029471861,
     "user": {
      "displayName": "Thomas Smith",
      "userId": "12498098331291735095"
     },
     "user_tz": 240
    },
    "id": "5W16_r_QqBBm"
   },
   "outputs": [],
   "source": [
    "# === Step 10: OOM‐safe via MulticlassMetrics ===\n",
    "\n",
    "from pyspark.mllib.evaluation import MulticlassMetrics\n",
    "import numpy as np\n",
    "import matplotlib.pyplot as plt\n",
    "\n",
    "# 1) Build an RDD of (prediction, label) as floats\n",
    "pred_label_rdd = (\n",
    "    predictions\n",
    "      .select(\"prediction\",\"labelIndex\")\n",
    "      .rdd\n",
    "      .map(lambda r: (float(r[\"prediction\"]), float(r[\"labelIndex\"])))\n",
    ")\n",
    "\n",
    "# 2) Compute the confusion matrix in the Spark backend\n",
    "metrics  = MulticlassMetrics(pred_label_rdd)\n",
    "#labels   = metrics.labels  # e.g. array([0.0,1.0,2.0,...])\n",
    "\n",
    "# pretty sure these are the mappings\n",
    "# 0 - Edgar Allen Poe\n",
    "# 1 - Mary Shelly\n",
    "# 2 - HP Lovecraft\n",
    "labels = [0.0,1.0,2.0]\n",
    "labels = [\"Edgar A Poe\", \"Mary Shelly\", \"HP Lovecraft\"]\n",
    "conf_mat = metrics.confusionMatrix().toArray()  # small (numClasses×numClasses) np.ndarray\n",
    "\n",
    "# 3) Plot heatmap\n",
    "fig, ax = plt.subplots(figsize=(6,5))\n",
    "im = ax.imshow(conf_mat, interpolation=\"nearest\", aspect=\"auto\")\n",
    "ax.set_title(\"Confusion Matrix\")\n",
    "ax.set_xlabel(\"Predicted Class\")\n",
    "ax.set_ylabel(\"Actual Class\")\n",
    "ax.set_xticks(np.arange(len(labels)))\n",
    "ax.set_yticks(np.arange(len(labels)))\n",
    "\n",
    "ax.set_xticklabels(labels, rotation=45, ha=\"right\")\n",
    "ax.set_yticklabels(labels)\n",
    "#ax.set_xticklabels([str(int(x)) for x in labels], rotation=45, ha=\"right\")\n",
    "#ax.set_yticklabels([str(int(x)) for x in labels])\n",
    "cbar = fig.colorbar(im, ax=ax)\n",
    "cbar.set_label(\"Count\")\n",
    "plt.tight_layout()\n",
    "plt.show()\n"
   ]
  },
  {
   "cell_type": "code",
   "execution_count": null,
   "id": "nBKIc1ItsvMb",
   "metadata": {
    "executionInfo": {
     "elapsed": 11,
     "status": "aborted",
     "timestamp": 1753029471862,
     "user": {
      "displayName": "Thomas Smith",
      "userId": "12498098331291735095"
     },
     "user_tz": 240
    },
    "id": "nBKIc1ItsvMb"
   },
   "outputs": [],
   "source": []
  },
  {
   "cell_type": "code",
   "execution_count": null,
   "id": "M5Nys9f4svJy",
   "metadata": {
    "executionInfo": {
     "elapsed": 13,
     "status": "aborted",
     "timestamp": 1753029471864,
     "user": {
      "displayName": "Thomas Smith",
      "userId": "12498098331291735095"
     },
     "user_tz": 240
    },
    "id": "M5Nys9f4svJy"
   },
   "outputs": [],
   "source": [
    "import numpy as np\n",
    "import matplotlib.pyplot as plt\n",
    "import pandas as pd\n",
    "import seaborn as sns\n",
    "from pyspark.sql import functions as F\n",
    "from pyspark.mllib.evaluation import MulticlassMetrics\n",
    "\n",
    "# === 1) Figure out your top-10 most common true labels ===\n",
    "top10 = (\n",
    "    predictions\n",
    "      .groupBy(\"labelIndex\")\n",
    "      .count()\n",
    "      .orderBy(F.desc(\"count\"))\n",
    "      .limit(10)\n",
    "      .rdd\n",
    "      .map(lambda r: float(r[\"labelIndex\"]))\n",
    "      .collect()\n",
    ")\n",
    "\n",
    "# === 2) Filter your DF down to only those top-10 classes ===\n",
    "pred10 = predictions.filter(\n",
    "    F.col(\"labelIndex\").isin(top10) &\n",
    "    F.col(\"prediction\").isin(top10)\n",
    ")\n",
    "\n",
    "# === 3) Build the 10×10 confusion table entirely in Spark ===\n",
    "spark_cm = (\n",
    "    pred10\n",
    "      .groupBy(\"labelIndex\")\n",
    "      .pivot(\"prediction\", top10)\n",
    "      .count()\n",
    "      .na.fill(0)\n",
    ")\n",
    "\n",
    "# === 4) Collect those 100 rows into pandas safely ===\n",
    "pd_cm = (\n",
    "    spark_cm\n",
    "      .toPandas()\n",
    "      .set_index(\"labelIndex\")\n",
    "      # reindex to guarantee every (i,j) is present\n",
    "      .reindex(index=top10, columns=top10, fill_value=0)\n",
    ")\n",
    "\n",
    "# === 5) Extract matrix + labels ===\n",
    "cm_mat = pd_cm.values.astype(int)\n",
    "labels = [str(int(x)) for x in top10]\n",
    "\n",
    "# === 6) Plot the heatmap ===\n",
    "fig, ax = plt.subplots(figsize=(6,5))\n",
    "im = ax.imshow(cm_mat, interpolation=\"nearest\", aspect=\"auto\")\n",
    "ax.set_xticks(np.arange(len(labels)))\n",
    "ax.set_yticks(np.arange(len(labels)))\n",
    "ax.set_xticklabels(labels, rotation=45, ha=\"right\")\n",
    "ax.set_yticklabels(labels)\n",
    "ax.set_xlabel(\"Predicted Class\")\n",
    "ax.set_ylabel(\"Actual  Class\")\n",
    "ax.set_title(\"Confusion Matrix (Top 10 Classes)\")\n",
    "cbar = fig.colorbar(im, ax=ax)\n",
    "cbar.set_label(\"Count\")\n",
    "plt.tight_layout()\n",
    "plt.show()\n",
    "\n",
    "\n",
    "# === BONUS: correlation of per-class precision/recall/F1 ===\n",
    "\n",
    "# 7) Build a tiny RDD[(pred,label)] of floats, only top-10\n",
    "pred_label_rdd = (\n",
    "    pred10\n",
    "      .select(\"prediction\",\"labelIndex\")\n",
    "      .rdd\n",
    "      .map(lambda r: (float(r[\"prediction\"]), float(r[\"labelIndex\"])))\n",
    ")\n",
    "\n",
    "# 8) Compute per-class metrics in the JVM\n",
    "metrics10 = MulticlassMetrics(pred_label_rdd)\n",
    "\n",
    "# 9) Gather them into pandas\n",
    "rows = []\n",
    "#for lbl in metrics10.labels:   # should be exactly your top10 floats\n",
    "for lbl in top10: #loop over them directly\n",
    "    rows.append({\n",
    "        \"label\":     int(lbl),\n",
    "        \"precision\": metrics10.precision(lbl),\n",
    "        \"recall\":    metrics10.recall(lbl),\n",
    "        \"f1\":        metrics10.fMeasure(lbl)\n",
    "    })\n",
    "df10 = pd.DataFrame(rows).set_index(\"label\")\n",
    "\n",
    "# 10) Correlation heatmap\n",
    "corr = df10[[\"precision\",\"recall\",\"f1\"]].corr()\n",
    "plt.figure(figsize=(4,3))\n",
    "sns.heatmap(corr, annot=True, fmt=\".2f\", cmap=\"vlag\", center=0)\n",
    "plt.title(\"Precision / Recall / F1 Correlation\")\n",
    "plt.tight_layout()\n",
    "plt.show()\n"
   ]
  },
  {
   "cell_type": "code",
   "execution_count": null,
   "id": "D_u2CcVIsvHe",
   "metadata": {
    "executionInfo": {
     "elapsed": 14,
     "status": "aborted",
     "timestamp": 1753029471866,
     "user": {
      "displayName": "Thomas Smith",
      "userId": "12498098331291735095"
     },
     "user_tz": 240
    },
    "id": "D_u2CcVIsvHe"
   },
   "outputs": [],
   "source": []
  },
  {
   "cell_type": "code",
   "execution_count": null,
   "id": "rrBcZ_X0NUI0",
   "metadata": {
    "executionInfo": {
     "elapsed": 15,
     "status": "aborted",
     "timestamp": 1753029471867,
     "user": {
      "displayName": "Thomas Smith",
      "userId": "12498098331291735095"
     },
     "user_tz": 240
    },
    "id": "rrBcZ_X0NUI0"
   },
   "outputs": [],
   "source": [
    "# === Step 11: Top-10 Words per Class ===\n",
    "# (If you switched to CountVectorizer with vocabSize=5000, use this;\n",
    "#  otherwise you'll only get hashed indices.)\n",
    "\n",
    "# Assuming you used CountVectorizer in your preprocessing pipeline:\n",
    "\n",
    "\n",
    "\n",
    "import numpy as np\n",
    "from pyspark.ml.feature import CountVectorizerModel\n",
    "\n",
    "# 1) Grab your “vectorizer” stage from the preprocessing pipeline\n",
    "vectorizer = preproc_model.stages[2]\n",
    "\n",
    "# 2) If it’s a CountVectorizerModel, pull out the real vocab;\n",
    "#    otherwise fall back to None and we’ll print bucket‐indices\n",
    "if isinstance(vectorizer, CountVectorizerModel):\n",
    "    vocab = vectorizer.vocabulary\n",
    "else:\n",
    "    vocab = None\n",
    "\n",
    "# 3) Grab your trained NaiveBayesModel\n",
    "nb_model = clf_model.stages[-1]                # NaiveBayesModel\n",
    "theta    = np.array(nb_model.theta.toArray())  # shape: (#classes × #features)\n",
    "\n",
    "# 4) Get back the original class‐strings from your StringIndexer\n",
    "label_indexer = clf_model.stages[0]            # StringIndexerModel\n",
    "class_labels  = label_indexer.labels           # e.g. [\"EAP\",\"MWS\",\"HPL\",...]\n",
    "\n",
    "# 5) For each class, find the top‐10 θ‐values\n",
    "for i, lbl in enumerate(class_labels):\n",
    "    top_idxs = np.argsort(theta[i])[::-1][:10]\n",
    "\n",
    "    if vocab is not None:\n",
    "        # real words\n",
    "        top_words = [vocab[j] for j in top_idxs]\n",
    "        print(f\"Class {lbl:>5} top words     : {top_words}\")\n",
    "    else:\n",
    "        # hashed buckets\n",
    "        top_words = [f\"bucket_{j}\" for j in top_idxs]\n",
    "        print(f\"Class {lbl:>5} top buckets   : {top_words}\")\n"
   ]
  },
  {
   "cell_type": "code",
   "execution_count": null,
   "id": "U87Wz7lsNUEf",
   "metadata": {
    "executionInfo": {
     "elapsed": 7,
     "status": "aborted",
     "timestamp": 1753029471868,
     "user": {
      "displayName": "Thomas Smith",
      "userId": "12498098331291735095"
     },
     "user_tz": 240
    },
    "id": "U87Wz7lsNUEf"
   },
   "outputs": [],
   "source": []
  },
  {
   "cell_type": "code",
   "execution_count": null,
   "id": "jKR02f5qNT-B",
   "metadata": {
    "executionInfo": {
     "elapsed": 6,
     "status": "aborted",
     "timestamp": 1753029471870,
     "user": {
      "displayName": "Thomas Smith",
      "userId": "12498098331291735095"
     },
     "user_tz": 240
    },
    "id": "jKR02f5qNT-B"
   },
   "outputs": [],
   "source": []
  },
  {
   "cell_type": "code",
   "execution_count": null,
   "id": "6h5tF2lHNTxI",
   "metadata": {
    "executionInfo": {
     "elapsed": 3,
     "status": "aborted",
     "timestamp": 1753029471870,
     "user": {
      "displayName": "Thomas Smith",
      "userId": "12498098331291735095"
     },
     "user_tz": 240
    },
    "id": "6h5tF2lHNTxI"
   },
   "outputs": [],
   "source": []
  }
 ],
 "metadata": {
  "accelerator": "GPU",
  "colab": {
   "gpuType": "T4",
   "provenance": []
  },
  "kernelspec": {
   "display_name": "Python 3 (irisarm)",
   "language": "python",
   "name": "irisarm"
  },
  "language_info": {
   "codemirror_mode": {
    "name": "ipython",
    "version": 3
   },
   "file_extension": ".py",
   "mimetype": "text/x-python",
   "name": "python",
   "nbconvert_exporter": "python",
   "pygments_lexer": "ipython3",
   "version": "3.11.13"
  }
 },
 "nbformat": 4,
 "nbformat_minor": 5
}
