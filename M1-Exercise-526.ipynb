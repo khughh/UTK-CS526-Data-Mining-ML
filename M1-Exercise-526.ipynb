{
 "cells": [
  {
   "cell_type": "markdown",
   "id": "khVZ7DoGDiBn",
   "metadata": {
    "id": "khVZ7DoGDiBn"
   },
   "source": [
    "# **`M.1.Introduction to data mining`**\n"
   ]
  },
  {
   "cell_type": "markdown",
   "id": "X-de8q4f_q13",
   "metadata": {
    "id": "X-de8q4f_q13"
   },
   "source": [
    "## **`exercise.M.1`** - Python Warmup"
   ]
  },
  {
   "cell_type": "markdown",
   "id": "cW6PQ4KAFhfd",
   "metadata": {
    "id": "cW6PQ4KAFhfd"
   },
   "source": [
    "### **`Overview and Directions`**"
   ]
  },
  {
   "cell_type": "markdown",
   "id": "CWbFlcJXI1Id",
   "metadata": {
    "id": "CWbFlcJXI1Id"
   },
   "source": [
    "* Practice importing and parsing information. \n",
    "* Focus on learning and solving versus coding perfectly.  \n",
    "* Perform tasks without assistance from clever sources.  \n",
    "\n",
    "#### **`Desired outcomes`**  \n",
    "- Experience open, read, and writing of external delimited files.  \n",
    "- Navigate basic text mining preprocessing like white space stripping.  \n",
    "- Refresh expereience with iterator, conditionals, and functions.  \n",
    "\n",
    "####**`Additional Resources`**  \n",
    "- course [Python reference.library.Cosc.526.pdf](https://github.com/cosc-526/cosc.526.home.page/blob/main/reference.library.COSC.526.pdf)  \n",
    "=> contains a deep and wide index of essential Python coding.  \n",
    "- Bookmark the masters of text preprocessing  \n",
    "=> [Jurafsky and Martin, Speech and Language Processing](https://web.stanford.edu/~jurafsky/slp3/)  \n",
    "=> additional quality textbook on classical text mining  \n",
    "=> [Wiess,S.,Indurkhya,N.,Zhang,T.,(2015), Fundamentals of predictive text mining, 2nd, Springer.](https://www.amazon.com/Fundamentals-Predictive-Mining-Computer-Science/dp/144716749X/ref=sr_1_1?crid=MUA7UG21IFPD&keywords=Wiess%2CS.%2CIndurkhya%2CN.%2CZhang%2CT.%2C%282015%29%2C+Fundamentals+of+predictive+text+mining%2C+2nd%2C+Springer&qid=1685151591&sprefix=wiess%2Cs.%2Cindurkhya%2Cn.%2Czhang%2Ct.%2C+2015+%2C+fundamentals+of+predictive+text+mining%2C+2nd%2C+springer%2Caps%2C78&sr=8-1)"
   ]
  },
  {
   "cell_type": "markdown",
   "id": "ZR2SKZ0V4l36",
   "metadata": {
    "id": "ZR2SKZ0V4l36"
   },
   "source": [
    "### **`Task.1`**  - comma-separated values (.csv)"
   ]
  },
  {
   "cell_type": "markdown",
   "id": "cs55wtGeEV7u",
   "metadata": {
    "id": "cs55wtGeEV7u"
   },
   "source": [
    "Reading and parsing [delimiter-separated values](https://en.wikipedia.org/wiki/Delimiter-separated_values) files like [comma-separated](https://en.wikipedia.org/wiki/Comma-separated_values) and [tab-separated values](https://en.wikipedia.org/wiki/Tab-separated_values) is a regular data science preprocessing activity. It is typically acceptable to request either file format for analysis activities.    \n",
    "- *.csv* files store tabular data like numbers and text in a plain text format. \n",
    "- Plain text may include text, white spaces, carriage returns, transliterals, and other artifacts.    \n",
    "- Each row, or data record, contains a value or nothing. A comma separates each.    \n",
    "\n",
    "**`Tasks`**  \n",
    "0. Read in the Nobel prize winners name and age data: [data.M.1.exercise.csv](https://github.com/cosc-526/home.page/blob/main/data.M.1.exercise.csv)  \n",
    "=> data is in class github. Read however you like!  \n",
    "1. Generate a single value for the total number of rows of data.\n",
    "2. Generate a single value for the total number of columns of data.  \n",
    "3. Calculate the laureates average age as a datatype float.  \n",
    "4. Solution structured as a user defined function (def) but doing so not required.   \n",
    "5. hint  \n",
    ".> use library `import requests` to read numerics from a url  \n",
    "=> mydata = requests.get(file_url)  \n",
    "==> if mydata.status_code == 200:  #200 = code for a successful request  \n",
    "====> do something with lines\n",
    "\n",
    "**`Useful links`**  \n",
    "- [Ch.16, Importing Data, Python.Crash.Course, Matthes](https://github.com/cosc-526/cosc.526.home.page/blob/main/textbook.Python.crash.course.matthes.pdf)  \n",
    "[open](https://docs.python.org/3.6/library/functions.html#open), \n",
    "[readlines](https://docs.python.org/3.6/library/codecs.html#codecs.StreamReader.readlines), [rstrip](https://docs.python.org/3.6/library/stdtypes.html#str.rstrip), [list comprehension](https://docs.python.org/3/tutorial/datastructures.html#list-comprehensions), [split](https://docs.python.org/3.6/library/stdtypes.html#str.split), [splice](https://docs.python.org/3.6/glossary.html#term-slice), [\"list.love\"](https://docs.python.org/3.6/tutorial/datastructures.html#more-on-lists), [len](https://docs.python.org/3.6/library/functions.html#len), [int](https://docs.python.org/3.6/library/functions.html#int), [format](https://docs.python.org/3.6/library/stdtypes.html#str.format)"
   ]
  },
  {
   "cell_type": "code",
   "execution_count": 4,
   "id": "Azp65ID2UV9X",
   "metadata": {
    "id": "Azp65ID2UV9X",
    "scrolled": true
   },
   "outputs": [
    {
     "data": {
      "text/html": [
       "<div>\n",
       "<style scoped>\n",
       "    .dataframe tbody tr th:only-of-type {\n",
       "        vertical-align: middle;\n",
       "    }\n",
       "\n",
       "    .dataframe tbody tr th {\n",
       "        vertical-align: top;\n",
       "    }\n",
       "\n",
       "    .dataframe thead th {\n",
       "        text-align: right;\n",
       "    }\n",
       "</style>\n",
       "<table border=\"1\" class=\"dataframe\">\n",
       "  <thead>\n",
       "    <tr style=\"text-align: right;\">\n",
       "      <th></th>\n",
       "      <th>name</th>\n",
       "      <th>age</th>\n",
       "      <th>reason</th>\n",
       "    </tr>\n",
       "  </thead>\n",
       "  <tbody>\n",
       "    <tr>\n",
       "      <th>0</th>\n",
       "      <td>Richard Phillips Feynman</td>\n",
       "      <td>69</td>\n",
       "      <td>for their fundamental work in quantum electro...</td>\n",
       "    </tr>\n",
       "    <tr>\n",
       "      <th>1</th>\n",
       "      <td>Shin'ichirō Tomonaga</td>\n",
       "      <td>73</td>\n",
       "      <td>for their fundamental work in quantum electro...</td>\n",
       "    </tr>\n",
       "    <tr>\n",
       "      <th>2</th>\n",
       "      <td>Julian Schwinger</td>\n",
       "      <td>76</td>\n",
       "      <td>for their fundamental work in quantum electro...</td>\n",
       "    </tr>\n",
       "    <tr>\n",
       "      <th>3</th>\n",
       "      <td>Rudolf Ludwig Mössbauer</td>\n",
       "      <td>82</td>\n",
       "      <td>for his researches concerning the resonance a...</td>\n",
       "    </tr>\n",
       "    <tr>\n",
       "      <th>4</th>\n",
       "      <td>Erwin Schrödinger</td>\n",
       "      <td>73</td>\n",
       "      <td>for the discovery of new productive forms of ...</td>\n",
       "    </tr>\n",
       "  </tbody>\n",
       "</table>\n",
       "</div>"
      ],
      "text/plain": [
       "                       name  age  \\\n",
       "0  Richard Phillips Feynman   69   \n",
       "1      Shin'ichirō Tomonaga   73   \n",
       "2          Julian Schwinger   76   \n",
       "3   Rudolf Ludwig Mössbauer   82   \n",
       "4         Erwin Schrödinger   73   \n",
       "\n",
       "                                              reason  \n",
       "0   for their fundamental work in quantum electro...  \n",
       "1   for their fundamental work in quantum electro...  \n",
       "2   for their fundamental work in quantum electro...  \n",
       "3   for his researches concerning the resonance a...  \n",
       "4   for the discovery of new productive forms of ...  "
      ]
     },
     "execution_count": 4,
     "metadata": {},
     "output_type": "execute_result"
    }
   ],
   "source": [
    "#=> Import as df\n",
    "import pandas as pd\n",
    "df_nobel = pd.read_csv('/Users/kevhhu/Downloads/data.M.1.exercise.csv')\n",
    "df_nobel.head()"
   ]
  },
  {
   "cell_type": "markdown",
   "id": "fFtuKBBh4l4C",
   "metadata": {
    "id": "fFtuKBBh4l4C"
   },
   "source": [
    "**Task.1 Expected ouput**\n",
    "```\n",
    "Number of rows of data: 8\n",
    "Number of cols: 3\n",
    "Average Age: 70.875\n",
    "```"
   ]
  },
  {
   "cell_type": "code",
   "execution_count": 7,
   "id": "927dd440-d615-4e56-9b9a-c2589d568fa4",
   "metadata": {
    "jp-MarkdownHeadingCollapsed": true
   },
   "outputs": [
    {
     "name": "stdout",
     "output_type": "stream",
     "text": [
      "NUmber of rows of data: 8\n",
      "Number of cols: 3\n",
      "Average Age: 70.875\n"
     ]
    }
   ],
   "source": [
    "### Code Answers\n",
    "num_rows = df_nobel.shape[0]\n",
    "num_cols = df_nobel.shape[1]\n",
    "avg_age = df_nobel['age'].mean()\n",
    "\n",
    "# Print (not using def)\n",
    "print(\"NUmber of rows of data:\", num_rows)\n",
    "print(\"Number of cols:\", num_cols)\n",
    "print(\"Average Age:\", avg_age)\n",
    "\n"
   ]
  },
  {
   "cell_type": "markdown",
   "id": "ybWXMZ974l4D",
   "metadata": {
    "id": "ybWXMZ974l4D"
   },
   "source": [
    "### **`Task.2`** - tab-separated values (.tsv)"
   ]
  },
  {
   "cell_type": "markdown",
   "id": "XpY0qD0rIsz3",
   "metadata": {
    "id": "XpY0qD0rIsz3"
   },
   "source": [
    "A [tab-separated value (.tsv)](https://en.wikipedia.org/wiki/Tab-separated_values) format is a delimiter-separated value for storing data in a tabular structure like a database table or spreadsheet. Other characteristics include,    \n",
    "- Used to exchange information between databases.\n",
    "- Each record in the table is one line of the text file.\n",
    "- Fields are distinct in a record when separated by the tab character **`\\t`**\n",
    "\n",
    "**`Tasks`**\n",
    "0. [data.exercise.M.1.tsv](https://github.com/cosc-526/home.page/blob/main/data.M.1.exercise.tsv) \n",
    "=> data is in class github. Read however you like!  \n",
    "1. Repeat Task.1 using the .tsv file.  \n",
    "2. The order and data in columns have changed.  \n",
    "3. If you hardcoded the \"age\" column, research and describe alternative code to alleviate fixed positional indexes.  \n",
    "\n",
    "**`Useful links`**  \n",
    "- [Python docs - csv file reading and writing](https://docs.python.org/3/library/csv.html#module-csv) \n",
    "- Python handles .tsv files using its \"delimiter\" parameter, \"\\t\"  "
   ]
  },
  {
   "cell_type": "code",
   "execution_count": 13,
   "id": "0ODxd_9HTCy9",
   "metadata": {
    "id": "0ODxd_9HTCy9"
   },
   "outputs": [
    {
     "data": {
      "text/html": [
       "<div>\n",
       "<style scoped>\n",
       "    .dataframe tbody tr th:only-of-type {\n",
       "        vertical-align: middle;\n",
       "    }\n",
       "\n",
       "    .dataframe tbody tr th {\n",
       "        vertical-align: top;\n",
       "    }\n",
       "\n",
       "    .dataframe thead th {\n",
       "        text-align: right;\n",
       "    }\n",
       "</style>\n",
       "<table border=\"1\" class=\"dataframe\">\n",
       "  <thead>\n",
       "    <tr style=\"text-align: right;\">\n",
       "      <th></th>\n",
       "      <th>name</th>\n",
       "      <th>reason</th>\n",
       "      <th>age</th>\n",
       "    </tr>\n",
       "  </thead>\n",
       "  <tbody>\n",
       "    <tr>\n",
       "      <th>0</th>\n",
       "      <td>Richard Phillips Feynman</td>\n",
       "      <td>for their fundamental work in quantum electro...</td>\n",
       "      <td>69</td>\n",
       "    </tr>\n",
       "    <tr>\n",
       "      <th>1</th>\n",
       "      <td>Shin'ichirō Tomonaga</td>\n",
       "      <td>for their fundamental work in quantum electro...</td>\n",
       "      <td>73</td>\n",
       "    </tr>\n",
       "    <tr>\n",
       "      <th>2</th>\n",
       "      <td>Julian Schwinger</td>\n",
       "      <td>for their fundamental work in quantum electro...</td>\n",
       "      <td>76</td>\n",
       "    </tr>\n",
       "    <tr>\n",
       "      <th>3</th>\n",
       "      <td>Rudolf Ludwig Mössbauer</td>\n",
       "      <td>for his researches concerning the resonance a...</td>\n",
       "      <td>82</td>\n",
       "    </tr>\n",
       "    <tr>\n",
       "      <th>4</th>\n",
       "      <td>Erwin Schrödinger</td>\n",
       "      <td>for the discovery of new productive forms of ...</td>\n",
       "      <td>73</td>\n",
       "    </tr>\n",
       "  </tbody>\n",
       "</table>\n",
       "</div>"
      ],
      "text/plain": [
       "                       name  \\\n",
       "0  Richard Phillips Feynman   \n",
       "1      Shin'ichirō Tomonaga   \n",
       "2          Julian Schwinger   \n",
       "3   Rudolf Ludwig Mössbauer   \n",
       "4         Erwin Schrödinger   \n",
       "\n",
       "                                              reason  age  \n",
       "0   for their fundamental work in quantum electro...   69  \n",
       "1   for their fundamental work in quantum electro...   73  \n",
       "2   for their fundamental work in quantum electro...   76  \n",
       "3   for his researches concerning the resonance a...   82  \n",
       "4   for the discovery of new productive forms of ...   73  "
      ]
     },
     "execution_count": 13,
     "metadata": {},
     "output_type": "execute_result"
    }
   ],
   "source": [
    "#=>Enter answer  \n",
    "df_nobeltsv = pd.read_csv('/Users/kevhhu/Desktop/UTK CS526/data.M.1.exercise.tsv', delimiter='\\t')\n",
    "df_nobeltsv.head()\n"
   ]
  },
  {
   "cell_type": "code",
   "execution_count": 16,
   "id": "9ed5be0e-79d8-4023-b67b-d0b798d0aed6",
   "metadata": {},
   "outputs": [],
   "source": [
    "num_rows1 = df_nobeltsv.shape[0]\n",
    "num_col = df_nobeltsv.shape[1]\n",
    "avg_age1 = df_nobeltsv['age'].mean()"
   ]
  },
  {
   "cell_type": "markdown",
   "id": "_9HmDoDjTNgi",
   "metadata": {
    "id": "_9HmDoDjTNgi"
   },
   "source": [
    "**Task.2 Expected output**\n",
    "```\n",
    "Number of rows of data: 8\n",
    "Number of cols: 3\n",
    "Average Age: 70.875\n",
    "```"
   ]
  },
  {
   "cell_type": "markdown",
   "id": "LSr6LhyN4l4E",
   "metadata": {
    "id": "LSr6LhyN4l4E"
   },
   "source": [
    "### **`Task.3`** - Convert diacritics (ä, ö) to ASCII"
   ]
  },
  {
   "cell_type": "markdown",
   "id": "CdUDaILLI7Ro",
   "metadata": {
    "id": "CdUDaILLI7Ro"
   },
   "source": [
    "- Download [data.M.1.exercise.csv](https://github.com/cosc-526/home.page/blob/main/data.M.1.exercise.csv) and right click on the file to view in Notepad.   \n",
    "=> Observe the Unicode non-English letters in laureates' names like the two dots over the letter \"o\" in \"Schrödinger.\"\n",
    "- Learn about [Unicode](https://en.wikipedia.org/wiki/Unicode) character standards for representing different types and forms of text.  \n",
    "- Grok that Python 3 [natively supports](https://docs.python.org/3/howto/unicode.html) Unicode, but many tools don't.\n",
    "- Conversion of Unicode to [ASCII](https://en.wikipedia.org/wiki/ASCII) formatting is often necessary in data preprocessing.  \n",
    "\n",
    "**Tasks**\n",
    "0. Read this article on diacritics conversion (e.g., \"ü\" → \"ue\"); [transliteration](https://german.stackexchange.com/questions/4992/conversion-table-for-diacritics-e-g-%C3%BC-%E2%86%92-ue).  \n",
    "1. data = [data.M.1.exercise.csv](https://github.com/cosc-526/home.page/blob/main/data.M.1.exercise.csv)  \n",
    "=> provided example reads directly from github\n",
    "2. Analyze and run code block with a dictionary matching Unicode character \"keys\" to their ASCII transliteration \"value.\"\n",
    "=> as a refresher, a dictionary is defined as mydict = { key:value }\n",
    "3. For labeled code sections #3.1 to 3.9, explain succinctly what the code is accomplishing and whether you are or are not familiar with it.  \n",
    "4. Create your inventory mechanism to store this, and more, code blocks.  \n",
    "\n",
    "***More useful links***\n",
    "- [1: replace](https://docs.python.org/3.6/library/stdtypes.html#str.replace), [2: file object methods](https://docs.python.org/3/tutorial/inputoutput.html#methods-of-file-objects),  \n"
   ]
  },
  {
   "cell_type": "code",
   "execution_count": 19,
   "id": "XnJm4ImJDSgW",
   "metadata": {
    "colab": {
     "base_uri": "https://localhost:8080/"
    },
    "id": "XnJm4ImJDSgW",
    "outputId": "0e497da6-c3ee-44fc-98db-f4c5056a3ced"
   },
   "outputs": [
    {
     "name": "stdout",
     "output_type": "stream",
     "text": [
      "Richard Phillips Feynman\n",
      "Shin'ichiro Tomonaga\n",
      "Julian Schwinger\n",
      "Rudolf Ludwig Moessbauer\n",
      "Erwin Schroedinger\n",
      "Paul Dirac\n",
      "Maria Sklodowska-Curie\n",
      "Pierre Curie\n"
     ]
    }
   ],
   "source": [
    "import requests\n",
    "\n",
    "translit_dict = {\n",
    "    \"ä\" : \"ae\",\n",
    "    \"ö\" : \"oe\",\n",
    "    \"ü\" : \"ue\",\n",
    "    \"Ä\" : \"Ae\",\n",
    "    \"Ö\" : \"Oe\",\n",
    "    \"Ü\" : \"Ue\", \n",
    "    \"ł\" : \"l\",\n",
    "    \"ō\" : \"o\",\n",
    "}\n",
    "#3.0\n",
    "#read data from a URL\n",
    "def parse_delimited_file(file_url, delimiter):\n",
    "    response = requests.get(file_url)\n",
    "    if response.status_code == 200:\n",
    "        lines = response.text.split('\\n')\n",
    "    else:\n",
    "        print('Failed to fetch the file from GitHub.')\n",
    "        return\n",
    "    lines = [line.rstrip('\\n') for line in lines if line.strip()]  # Skip empty lines\n",
    "    return lines\n",
    "\n",
    "file_url = \"https://raw.githubusercontent.com/cosc-526/home.page/main/data.M.1.exercise.csv\"\n",
    "lines = parse_delimited_file(file_url, delimiter=\",\")\n",
    "\n",
    "#3.1\n",
    "#with open(\"data.exercise.M.1.csv\", 'r', encoding='utf8') as csvfile:\n",
    "#    lines = csvfile.readlines()\n",
    "#3.2\n",
    "# Strip off the newline from the end of each line\n",
    "lines = [line.rstrip() for line in lines]\n",
    "\n",
    "#3.3   \n",
    "# Split each line based on the delimiter (which, in this case, is the comma)\n",
    "split_lines = [line.split(\",\") for line in lines]\n",
    "\n",
    "#3.4\n",
    "# Separate the header from the data\n",
    "header = split_lines[0]\n",
    "data_lines = split_lines[1:]\n",
    "    \n",
    "#3.5    \n",
    "# Find \"name\" within the header\n",
    "name_index = header.index(\"name\")\n",
    "\n",
    "#3.6\n",
    "# Extract the names from the rows\n",
    "unicode_names = [line[name_index] for line in data_lines]\n",
    "\n",
    "#3.7\n",
    "# Iterate over the names\n",
    "translit_names = []\n",
    "for unicode_name in unicode_names:\n",
    "    # Perform the replacements in the translit_dict\n",
    "    # HINT: ref [1]\n",
    "    translit_name = unicode_name\n",
    "    for key, value in translit_dict.items():\n",
    "        translit_name = translit_name.replace(key, value)\n",
    "    translit_names.append(translit_name)\n",
    "\n",
    "#3.8\n",
    "# Write out the names to a file named \"data-ascii.txt\"\n",
    "# HINT: ref [2]\n",
    "with open(\"data.exercise.M.1.ascii.txt\", 'w') as outfile:\n",
    "    for name in translit_names:\n",
    "        outfile.write(name + \"\\n\")\n",
    "#3.9\n",
    "# Verify that the names were converted and written out correctly\n",
    "with open(\"data.exercise.M.1.ascii.txt\", 'r') as infile:\n",
    "    for line in infile:\n",
    "        print(line.rstrip())\n"
   ]
  },
  {
   "cell_type": "code",
   "execution_count": 18,
   "id": "X6tBzbFR2f_v",
   "metadata": {
    "id": "X6tBzbFR2f_v"
   },
   "outputs": [],
   "source": [
    "#=>Enter answer/reflection   \n",
    "#3.1 Opens a local csv file, reads into list called 'lines'/ Pretty familiar with this\n",
    "#3.2 Strips whitespace or newline from end of each line in list/ Semi Familiar  \n",
    "#3.3 Splits each line into columns, uses comma as delimiter (\",\") / Makes sense/Familiar\n",
    "#3.4 Separates column titles from data / Ver yfamiliar\n",
    "#3.5 Finds column index for the 'name' column / Very familiar\n",
    "#3.6 Extracts 'name' column data into a list/ Familiar\n",
    "#3.7 Text normalization defined by translit_dict where every name is iterated to replace unicode with ASCII equivalents/ Not familiar in practice\n",
    "#3.8 Writes ASCII-only names to new text file with new line \"\\n\" / Familiar with writing list to file\n",
    "#3.9 Reads back output file and prints each new line / Not as familiar\n"
   ]
  },
  {
   "cell_type": "markdown",
   "id": "zmOzzRTl4l4P",
   "metadata": {
    "id": "zmOzzRTl4l4P"
   },
   "source": [
    "**`Expected output`**\n",
    "```\n",
    "Richard Phillips Feynman\n",
    "Shin'ichiro Tomonaga\n",
    "Julian Schwinger\n",
    "Rudolf Ludwig Moessbauer\n",
    "Erwin Schroedinger\n",
    "Paul Dirac\n",
    "Maria Sklodowska-Curie\n",
    "Pierre Curie\n",
    "```\n",
    "\n"
   ]
  },
  {
   "cell_type": "code",
   "execution_count": null,
   "id": "8e7e4e73-3ddf-4275-878c-c85ded30c7dd",
   "metadata": {},
   "outputs": [],
   "source": []
  }
 ],
 "metadata": {
  "colab": {
   "collapsed_sections": [
    "el9sjRdm9gjv",
    "7o91Ig5QKVif",
    "MqZm_iFTPI7f",
    "JfIew_dgmpCQ",
    "kRoOscDyqoCO",
    "wcrKuRsWXUW1",
    "913dpFR0Fp1E",
    "kjA00fVqPjEm"
   ],
   "provenance": []
  },
  "kernelspec": {
   "display_name": "Python (tf)",
   "language": "python",
   "name": "tf"
  },
  "language_info": {
   "codemirror_mode": {
    "name": "ipython",
    "version": 3
   },
   "file_extension": ".py",
   "mimetype": "text/x-python",
   "name": "python",
   "nbconvert_exporter": "python",
   "pygments_lexer": "ipython3",
   "version": "3.11.5"
  }
 },
 "nbformat": 4,
 "nbformat_minor": 5
}
